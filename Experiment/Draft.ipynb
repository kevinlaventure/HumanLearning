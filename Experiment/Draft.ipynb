{
 "cells": [
  {
   "cell_type": "code",
   "execution_count": 1,
   "id": "bb79b597-06c9-4ef9-a7c3-27ab0ed5b01c",
   "metadata": {},
   "outputs": [],
   "source": [
    "import numpy as np\n",
    "import pandas as pd\n",
    "import plotly.express as px\n",
    "from module.pricing import MonteCarlo"
   ]
  },
  {
   "cell_type": "code",
   "execution_count": null,
   "id": "9069dd9d-fa0a-4a32-beaa-c79ff894e688",
   "metadata": {
    "tags": []
   },
   "outputs": [],
   "source": [
    "st1 = 4700\n",
    "st2 = 1.10\n",
    "results = dict()\n",
    "mc = MonteCarlo(num_path=5, num_simulation=20_000_000, num_path_per_year=1638)\n",
    "for rho in np.linspace(start=-1, stop=1, num=20):\n",
    "    eq, fx = mc.bivariate_gbm(\n",
    "        st1=st1, iv1=0.13, q1=0, b1=0, \n",
    "        st2=st2, iv2=0.03, q2=0, b2=0, \n",
    "        r=0, rho=rho\n",
    "    )\n",
    "    eq = pd.DataFrame(eq)\n",
    "    fx = pd.DataFrame(fx)\n",
    "    strategy_pnl = (fx.iloc[-1] / fx.iloc[0] -1) * eq.iloc[-1]\n",
    "\n",
    "    bump = 0.0001\n",
    "    dpdfx = st1 * (st2+bump/st2 -1)/bump\n",
    "    hedge_pnl = dpdfx * (fx.iloc[-1] - fx.iloc[0])\n",
    "    bleed_n = (hedge_pnl-strategy_pnl)/eq.iloc[-1]\n",
    "    results[rho] = bleed_n.mean()"
   ]
  },
  {
   "cell_type": "code",
   "execution_count": null,
   "id": "58fe38f1-9488-489d-a85d-59fa5a118ab2",
   "metadata": {
    "tags": []
   },
   "outputs": [],
   "source": [
    "px.line(pd.Series(results))"
   ]
  },
  {
   "cell_type": "code",
   "execution_count": null,
   "id": "f32557e5-2be3-4ce1-a471-cd5d20e68b5a",
   "metadata": {},
   "outputs": [],
   "source": []
  }
 ],
 "metadata": {
  "kernelspec": {
   "display_name": "Python 3 (ipykernel)",
   "language": "python",
   "name": "python3"
  },
  "language_info": {
   "codemirror_mode": {
    "name": "ipython",
    "version": 3
   },
   "file_extension": ".py",
   "mimetype": "text/x-python",
   "name": "python",
   "nbconvert_exporter": "python",
   "pygments_lexer": "ipython3",
   "version": "3.11.5"
  }
 },
 "nbformat": 4,
 "nbformat_minor": 5
}
