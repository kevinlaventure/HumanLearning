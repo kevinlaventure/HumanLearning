{
 "cells": [
  {
   "cell_type": "markdown",
   "metadata": {},
   "source": [
    "<br>\n",
    "\n",
    "<p style=\"text-align:center; font-weight:bold; font-size:17px;\">Normal & Log-normal distribution</p>\n",
    "\n",
    "<p style=\"text-align:center; font-size:14px;\">In this notebook, we want to study and compare the relationship between normal and log-normal distribution.</p>\n",
    "\n",
    "<p style=\"text-align:center; font-size:14px;\">If a random variable X follows a normal distribution, then the exponential of that variable, exp(X), follows a log-normal distribution.</p>\n",
    "\n",
    "<p style=\"text-align:center; font-size:14px;\">Conversely, if a random variable Y follows a log-normal distribution, then the natural logarithm of that variable, ln(Y), follows a normal distribution.</p>\n"
   ]
  },
  {
   "cell_type": "code",
   "execution_count": 1,
   "metadata": {
    "tags": []
   },
   "outputs": [],
   "source": [
    "#-------\n",
    "# IMPORT BUILT-IN LIBRAIRIES\n",
    "#-------\n",
    "import numpy as np\n",
    "import scipy.stats as stats\n",
    "from scipy.integrate import quad\n",
    "\n",
    "#-------\n",
    "# DEFINE PROBABILITY DENSITY FUNCTION\n",
    "#-------\n",
    "def standard_normal_pdf(x, mu, sigma):\n",
    "    exponent = -((x - mu) ** 2) / (2 * sigma ** 2)\n",
    "    coefficient = 1 / (np.sqrt(2 * np.pi * sigma ** 2))\n",
    "    pdf = coefficient * np.exp(exponent)\n",
    "    return pdf\n",
    "\n",
    "def log_normal_pdf(x, mu, sigma):\n",
    "    exponent = -((np.log(x) - mu) ** 2) / (2 * sigma ** 2)\n",
    "    coefficient = 1 / (x * sigma * np.sqrt(2 * np.pi))\n",
    "    pdf = coefficient * np.exp(exponent)\n",
    "    return pdf"
   ]
  },
  {
   "cell_type": "markdown",
   "metadata": {},
   "source": [
    "<p style=\"text-align:center; font-weight:bold; font-size:15px;\">Example 1: Probability</p>\n"
   ]
  },
  {
   "cell_type": "code",
   "execution_count": 6,
   "metadata": {
    "tags": []
   },
   "outputs": [
    {
     "name": "stdout",
     "output_type": "stream",
     "text": [
      "Using -2.0/2.0 for normal distribution and 0.14/7.39 for log-normal distribution\n",
      "Standard normal probability 1.0\n",
      "Log normal probability 1.0000000000000002\n"
     ]
    }
   ],
   "source": [
    "#-------\n",
    "# INPUT\n",
    "#-------\n",
    "mu = 0\n",
    "std = 0.2\n",
    "normal_lower_bound = -std*10\n",
    "normal_upper_bound = std*10\n",
    "log_lower_bound = np.exp(normal_lower_bound)\n",
    "log_upper_bound = np.exp(normal_upper_bound)\n",
    "\n",
    "#-------\n",
    "# COMPUTE MEAN AND PROBABILITY\n",
    "#-------\n",
    "normal_proba = quad(standard_normal_pdf, normal_lower_bound, normal_upper_bound, args=(mu, std))[0]\n",
    "log_proba = quad(log_normal_pdf, log_lower_bound, log_upper_bound, args=(mu, std))[0]\n",
    "print(f'Using {normal_lower_bound}/{normal_upper_bound} for normal distribution and {log_lower_bound:.2F}/{log_upper_bound:.2F} for log-normal distribution')\n",
    "print(f'Standard normal probability {normal_proba}')\n",
    "print(f'Log normal probability {log_proba}')"
   ]
  },
  {
   "cell_type": "markdown",
   "metadata": {},
   "source": [
    "<p style=\"text-align:center; font-weight:bold; font-size:15px;\">Example 2: Option Pricing</p>\n"
   ]
  },
  {
   "cell_type": "code",
   "execution_count": 3,
   "metadata": {},
   "outputs": [
    {
     "name": "stdout",
     "output_type": "stream",
     "text": [
      "With Log-normal integration: Call price=7.965567455405844  Put price=7.9655674554057585\n",
      "With Standard normal integration: Call price=7.965567455405843  Put price=7.9655674554057585\n",
      "With Standard normal integration: Call probability=0.46017216064068267\n",
      "With Standard normal integration and scipy: Call price=7.96556745540584  Put price=7.965567455405757\n"
     ]
    }
   ],
   "source": [
    "#-------\n",
    "# PARAMETERS\n",
    "#-------\n",
    "D = 252\n",
    "S0 = 100\n",
    "K = 100\n",
    "T = D/252\n",
    "r = 0.0\n",
    "sig = 0.20\n",
    "\n",
    "#-------\n",
    "# PRICING\n",
    "#-------\n",
    "e_ret = np.log(S0) + (r - 0.5 * sig**2) * T\n",
    "vol = sig * np.sqrt(T)\n",
    "\n",
    "def log_normal_integration(S, strike, e_ret, vol, payoff):\n",
    "    intrinsec_value = max(0, (S - strike)) if payoff == 'call' else max(0, (strike - S))\n",
    "    return intrinsec_value * log_normal_pdf(x=S, mu=e_ret, sigma=vol)\n",
    "\n",
    "def standard_normal_integration(S, strike, e_ret, vol, payoff):\n",
    "    adj_intrinsec_value = max(0, (np.exp(S) - strike)) if payoff == 'call' else max(0, (strike - np.exp(S)))\n",
    "    return adj_intrinsec_value * standard_normal_pdf(x=S, mu=e_ret, sigma=vol)\n",
    "\n",
    "def standard_normal_integration_scipy(S, strike, e_ret, vol, payoff):\n",
    "    adj_intrinsec_value = max(0, (np.exp(S) - strike)) if payoff == 'call' else max(0, (strike - np.exp(S)))\n",
    "    return adj_intrinsec_value * stats.norm.pdf(x=S, loc=e_ret, scale=vol)\n",
    "\n",
    "def standard_normal_integration_proba(S, strike, e_ret, vol):\n",
    "    p = 1 if max(0, (np.exp(S) - strike)) > 0 else 0\n",
    "    return p * standard_normal_pdf(x=S, mu=e_ret, sigma=vol)\n",
    "\n",
    "call = quad(log_normal_integration, K, np.inf, args=(K, e_ret, vol, \"call\"))[0] * np.exp(-r * T)\n",
    "put = quad(log_normal_integration, 0, K, args=(K, e_ret, vol, \"put\"))[0] * np.exp(-r * T)\n",
    "print(f\"With Log-normal integration: Call price={call}  Put price={put}\")\n",
    "\n",
    "call = quad(standard_normal_integration, np.log(K), 10, args=(K, e_ret, vol, \"call\"))[0] * np.exp(-r * T)\n",
    "put = quad(standard_normal_integration, -10, np.log(K), args=(K, e_ret, vol, \"put\"))[0] * np.exp(-r * T)\n",
    "print(f\"With Standard normal integration: Call price={call}  Put price={put}\")\n",
    "\n",
    "call = quad(standard_normal_integration_proba, -10, 10, args=(K, e_ret, vol))[0] * np.exp(-r * T)\n",
    "print(f\"With Standard normal integration: Call probability={call}\")\n",
    "\n",
    "call = quad(standard_normal_integration_scipy, np.log(K), 10, args=(K, e_ret, vol, \"call\"))[0] * np.exp(-r * T)\n",
    "put = quad(standard_normal_integration_scipy, -10, np.log(K), args=(K, e_ret, vol, \"put\"))[0] * np.exp(-r * T)\n",
    "print(f\"With Standard normal integration and scipy: Call price={call}  Put price={put}\")"
   ]
  },
  {
   "cell_type": "code",
   "execution_count": null,
   "metadata": {},
   "outputs": [],
   "source": []
  }
 ],
 "metadata": {
  "kernelspec": {
   "display_name": "Python 3 (ipykernel)",
   "language": "python",
   "name": "python3"
  },
  "language_info": {
   "codemirror_mode": {
    "name": "ipython",
    "version": 3
   },
   "file_extension": ".py",
   "mimetype": "text/x-python",
   "name": "python",
   "nbconvert_exporter": "python",
   "pygments_lexer": "ipython3",
   "version": "3.11.5"
  }
 },
 "nbformat": 4,
 "nbformat_minor": 4
}
