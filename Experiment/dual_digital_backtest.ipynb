{
 "cells": [
  {
   "cell_type": "code",
   "execution_count": 14,
   "id": "c728da84-3809-4d79-9823-1c8cf758d8d4",
   "metadata": {
    "tags": []
   },
   "outputs": [],
   "source": [
    "import numpy as np\n",
    "import pandas as pd\n",
    "from typing import Union\n",
    "from tqdm.auto import tqdm\n",
    "import matplotlib.pyplot as plt\n",
    "from module.pricing import DualDigital\n",
    "\n",
    "# -----\n",
    "# SET DISPLAY SETTINGS\n",
    "# -----\n",
    "pd.set_option('display.width', 50)\n",
    "pd.set_option('display.max_rows', 50)\n",
    "pd.set_option('display.max_columns', 50)\n",
    "pd.set_option('display.float_format', lambda x: '{:,.2f}'.format(x))"
   ]
  },
  {
   "cell_type": "code",
   "execution_count": 2,
   "id": "18a365d9-b995-4f73-9947-0d782d29fe3e",
   "metadata": {
    "tags": []
   },
   "outputs": [],
   "source": [
    "class Backtest:\n",
    "\n",
    "    def __init__(self, model: Union[None, str], periods_per_year: int = 252):\n",
    "        self.model = model\n",
    "        self.periods_per_year = periods_per_year\n",
    "\n",
    "    def dual_digital(self,\n",
    "                     data: dict,\n",
    "                     k1: float, k2: float,\n",
    "                     iv1: float, iv2: float,\n",
    "                     q1: float, q2: float,\n",
    "                     b1: float, b2: float,\n",
    "                     rho: float, r: float, unit: int):\n",
    "\n",
    "        # -------\n",
    "        # COMPUTE PRODUCT PV AND GREEKS TIMESERIES\n",
    "        # -------\n",
    "\n",
    "        bt = dict()\n",
    "\n",
    "        dates = list(data.keys())\n",
    "        date_t0 = dates[0]\n",
    "\n",
    "        st1_t0 = data.get(date_t0).get('st1')\n",
    "        st2_t0 = data.get(date_t0).get('st2')\n",
    "\n",
    "        business_day_to_expiry = len(dates) - 1\n",
    "        t = business_day_to_expiry / self.periods_per_year\n",
    "\n",
    "        for date in tqdm(dates):\n",
    "\n",
    "            st1 = data.get(date).get('st1')\n",
    "            st2 = data.get(date).get('st2')\n",
    "\n",
    "            st1_pct = st1 / st1_t0\n",
    "            st2_pct = st2 / st2_t0\n",
    "\n",
    "            priceable_up = DualDigital(\n",
    "                st1=st1_pct, k1=k1, iv1=iv1, q1=q1, b1=b1, direction1='up',\n",
    "                st2=st2_pct, k2=k2, iv2=iv2, q2=q2, b2=b2, direction2='up',\n",
    "                rho=rho, r=r, t=t, unit=unit, model=self.model\n",
    "            )\n",
    "\n",
    "            priceable_up.calculate_present_value()\n",
    "            priceable_up.calculate_greeks()\n",
    "            pv_up = priceable_up.get_present_value()\n",
    "            greeks_up = priceable_up.get_greeks()\n",
    "\n",
    "            priceable_down = DualDigital(\n",
    "                st1=st1_pct, k1=k1, iv1=iv1, q1=q1, b1=b1, direction1='down',\n",
    "                st2=st2_pct, k2=k2, iv2=iv2, q2=q2, b2=b2, direction2='down',\n",
    "                rho=rho, r=r, t=t, unit=unit, model=self.model\n",
    "            )\n",
    "\n",
    "            priceable_down.calculate_present_value()\n",
    "            priceable_down.calculate_greeks()\n",
    "            pv_down = priceable_down.get_present_value()\n",
    "            greeks_down = priceable_down.get_greeks()\n",
    "\n",
    "            pv = pv_up + pv_down\n",
    "            delta_st1 = (greeks_up.get('dst1') + greeks_down.get('dst1')) / st1\n",
    "            delta_st2 = (greeks_up.get('dst2') + greeks_down.get('dst2')) / st2\n",
    "            gamma_st1 = (greeks_up.get('dst1**2') + greeks_down.get('dst1**2')) / (st1 ** 2)\n",
    "            gamma_st2 = (greeks_up.get('dst2**2') + greeks_down.get('dst2**2')) / (st2 ** 2)\n",
    "            x_gamma = (greeks_up.get('dst1*dst2') + greeks_down.get('dst1*dst2')) / (st1 * st2)\n",
    "            theta = greeks_up.get('dt') + greeks_down.get('dt')\n",
    "\n",
    "            bt[date] = {\n",
    "                'business_day_to_expiry': business_day_to_expiry,\n",
    "                't': t,\n",
    "                'st1': st1, 'st2': st2,\n",
    "                'st1_pct': st1_pct, 'st2_pct': st2_pct,\n",
    "                'pv': pv,\n",
    "                'delta_st1': delta_st1, 'delta_st2': delta_st2,\n",
    "                'gamma_st1': gamma_st1, 'gamma_st2': gamma_st2,\n",
    "                'x_gamma': x_gamma, 'theta': theta\n",
    "            }\n",
    "\n",
    "            business_day_to_expiry = business_day_to_expiry - 1\n",
    "            t = business_day_to_expiry / self.periods_per_year\n",
    "\n",
    "        # -------\n",
    "        # COMPUTE REPLICATION STRATEGY AND PNL BREAK-DOWN\n",
    "        # -------\n",
    "        bt_df = pd.DataFrame.from_dict(bt, orient='index')\n",
    "\n",
    "        bt_df.loc[:, 'option_pnl'] = bt_df['pv'].diff()\n",
    "\n",
    "        bt_df.loc[:, 'delta_st1_pnl'] = bt_df['st1'].diff() * bt_df['delta_st1'].shift()\n",
    "        bt_df.loc[:, 'delta_st2_pnl'] = bt_df['st2'].diff() * bt_df['delta_st2'].shift()\n",
    "        bt_df.loc[:, 'delta_pnl'] = bt_df['delta_st1_pnl'] + bt_df['delta_st2_pnl']\n",
    "\n",
    "        bt_df.loc[:, 'gamma_st1_pnl'] = bt_df['st1'].diff().pow(2) * bt_df['gamma_st1'].shift() * 0.5\n",
    "        bt_df.loc[:, 'gamma_st2_pnl'] = bt_df['st2'].diff().pow(2) * bt_df['gamma_st2'].shift() * 0.5\n",
    "        bt_df.loc[:, 'gamma_pnl'] = bt_df['gamma_st1_pnl'] + bt_df['gamma_st2_pnl']\n",
    "\n",
    "        bt_df.loc[:, 'x_gamma_pnl'] = bt_df['st1'].diff() * bt_df['st2'].diff() * bt_df['x_gamma'].shift()\n",
    "\n",
    "        bt_df.loc[:, 'explained_pnl'] = bt_df['delta_pnl'] + bt_df['gamma_pnl'] + bt_df['x_gamma_pnl'] + bt_df['theta']\n",
    "\n",
    "        bt_df.loc[:, 'delta_cumpnl'] = bt_df['delta_pnl'].cumsum()\n",
    "        bt_df.loc[:, 'option_cumpnl'] = bt_df['option_pnl'].cumsum()\n",
    "\n",
    "        return bt_df"
   ]
  },
  {
   "cell_type": "code",
   "execution_count": 6,
   "id": "1a2df00a-fcae-4dad-8189-3119886fe99b",
   "metadata": {
    "tags": []
   },
   "outputs": [],
   "source": [
    "# -------\n",
    "# IMPORT DATA\n",
    "# -------\n",
    "df1 = pd.read_csv('data/SPY.csv', index_col=0, parse_dates=True).loc[:, ['Adj Close']]\n",
    "df2 = pd.read_csv('data/IWM.csv', index_col=0, parse_dates=True).loc[:, ['Adj Close']]\n",
    "df1.columns = ['st1']\n",
    "df2.columns = ['st2']\n",
    "df = pd.concat([df1, df2], axis=1).dropna()"
   ]
  },
  {
   "cell_type": "code",
   "execution_count": 7,
   "id": "5ee18220-c5f1-4103-a88d-a71df382f6f6",
   "metadata": {
    "tags": []
   },
   "outputs": [],
   "source": [
    "df_snap = df.iloc[-20:]\n",
    "data = df_snap.to_dict(orient='index')"
   ]
  },
  {
   "cell_type": "code",
   "execution_count": 8,
   "id": "291fb3b4-f57d-4862-a6af-0788bd4a7352",
   "metadata": {
    "tags": []
   },
   "outputs": [
    {
     "data": {
      "text/plain": [
       "st1    0.117115\n",
       "st2    0.141322\n",
       "dtype: float64"
      ]
     },
     "execution_count": 8,
     "metadata": {},
     "output_type": "execute_result"
    }
   ],
   "source": [
    "df_snap.pct_change().std() * np.sqrt(252)"
   ]
  },
  {
   "cell_type": "code",
   "execution_count": 9,
   "id": "b410f582-05b1-4dce-9dda-ee79d42dda5f",
   "metadata": {
    "tags": []
   },
   "outputs": [
    {
     "data": {
      "text/html": [
       "<div>\n",
       "<style scoped>\n",
       "    .dataframe tbody tr th:only-of-type {\n",
       "        vertical-align: middle;\n",
       "    }\n",
       "\n",
       "    .dataframe tbody tr th {\n",
       "        vertical-align: top;\n",
       "    }\n",
       "\n",
       "    .dataframe thead th {\n",
       "        text-align: right;\n",
       "    }\n",
       "</style>\n",
       "<table border=\"1\" class=\"dataframe\">\n",
       "  <thead>\n",
       "    <tr style=\"text-align: right;\">\n",
       "      <th></th>\n",
       "      <th>st1</th>\n",
       "      <th>st2</th>\n",
       "    </tr>\n",
       "  </thead>\n",
       "  <tbody>\n",
       "    <tr>\n",
       "      <th>st1</th>\n",
       "      <td>1.000000</td>\n",
       "      <td>0.788747</td>\n",
       "    </tr>\n",
       "    <tr>\n",
       "      <th>st2</th>\n",
       "      <td>0.788747</td>\n",
       "      <td>1.000000</td>\n",
       "    </tr>\n",
       "  </tbody>\n",
       "</table>\n",
       "</div>"
      ],
      "text/plain": [
       "          st1       st2\n",
       "st1  1.000000  0.788747\n",
       "st2  0.788747  1.000000"
      ]
     },
     "execution_count": 9,
     "metadata": {},
     "output_type": "execute_result"
    }
   ],
   "source": [
    "df_snap.diff().corr()"
   ]
  },
  {
   "cell_type": "code",
   "execution_count": 11,
   "id": "40944cd6-9ca9-42ef-ac5d-20f34b0f6e0c",
   "metadata": {
    "tags": []
   },
   "outputs": [],
   "source": [
    "bt = Backtest(model='numerical_integration')"
   ]
  },
  {
   "cell_type": "code",
   "execution_count": 12,
   "id": "2317ca17-2b57-483b-91ef-5f786cb065af",
   "metadata": {
    "tags": []
   },
   "outputs": [
    {
     "data": {
      "application/vnd.jupyter.widget-view+json": {
       "model_id": "65d6f7a81efd454da9d33d93b791c2c9",
       "version_major": 2,
       "version_minor": 0
      },
      "text/plain": [
       "  0%|          | 0/20 [00:00<?, ?it/s]"
      ]
     },
     "metadata": {},
     "output_type": "display_data"
    }
   ],
   "source": [
    "results = bt.dual_digital(data=data, k1=1, k2=1, iv1=0.12, iv2=0.14, q1=0, q2=0, b1=0, b2=0, rho=0.8, r=0, unit=100)"
   ]
  },
  {
   "cell_type": "code",
   "execution_count": 26,
   "id": "b61a5ae6-b436-432a-bd12-0aa3a140c506",
   "metadata": {
    "tags": []
   },
   "outputs": [
    {
     "data": {
      "text/html": [
       "<div>\n",
       "<style scoped>\n",
       "    .dataframe tbody tr th:only-of-type {\n",
       "        vertical-align: middle;\n",
       "    }\n",
       "\n",
       "    .dataframe tbody tr th {\n",
       "        vertical-align: top;\n",
       "    }\n",
       "\n",
       "    .dataframe thead th {\n",
       "        text-align: right;\n",
       "    }\n",
       "</style>\n",
       "<table border=\"1\" class=\"dataframe\">\n",
       "  <thead>\n",
       "    <tr style=\"text-align: right;\">\n",
       "      <th></th>\n",
       "      <th>business_day_to_expiry</th>\n",
       "      <th>t</th>\n",
       "      <th>st1</th>\n",
       "      <th>st2</th>\n",
       "      <th>st1_pct</th>\n",
       "      <th>st2_pct</th>\n",
       "      <th>pv</th>\n",
       "      <th>delta_st1</th>\n",
       "      <th>delta_st2</th>\n",
       "      <th>gamma_st1</th>\n",
       "      <th>gamma_st2</th>\n",
       "      <th>x_gamma</th>\n",
       "      <th>theta</th>\n",
       "      <th>option_pnl</th>\n",
       "      <th>delta_st1_pnl</th>\n",
       "      <th>delta_st2_pnl</th>\n",
       "      <th>delta_pnl</th>\n",
       "      <th>gamma_st1_pnl</th>\n",
       "      <th>gamma_st2_pnl</th>\n",
       "      <th>gamma_pnl</th>\n",
       "      <th>x_gamma_pnl</th>\n",
       "      <th>explained_pnl</th>\n",
       "      <th>delta_cumpnl</th>\n",
       "      <th>option_cumpnl</th>\n",
       "    </tr>\n",
       "  </thead>\n",
       "  <tbody>\n",
       "    <tr>\n",
       "      <th>2023-09-06</th>\n",
       "      <td>19</td>\n",
       "      <td>0.08</td>\n",
       "      <td>444.65</td>\n",
       "      <td>185.26</td>\n",
       "      <td>1.00</td>\n",
       "      <td>1.00</td>\n",
       "      <td>79.52</td>\n",
       "      <td>-0.44</td>\n",
       "      <td>-0.76</td>\n",
       "      <td>-0.19</td>\n",
       "      <td>-0.81</td>\n",
       "      <td>0.49</td>\n",
       "      <td>-0.00</td>\n",
       "      <td>NaN</td>\n",
       "      <td>NaN</td>\n",
       "      <td>NaN</td>\n",
       "      <td>NaN</td>\n",
       "      <td>NaN</td>\n",
       "      <td>NaN</td>\n",
       "      <td>NaN</td>\n",
       "      <td>NaN</td>\n",
       "      <td>NaN</td>\n",
       "      <td>NaN</td>\n",
       "      <td>NaN</td>\n",
       "    </tr>\n",
       "    <tr>\n",
       "      <th>2023-09-07</th>\n",
       "      <td>18</td>\n",
       "      <td>0.07</td>\n",
       "      <td>443.29</td>\n",
       "      <td>183.47</td>\n",
       "      <td>1.00</td>\n",
       "      <td>0.99</td>\n",
       "      <td>79.27</td>\n",
       "      <td>-1.10</td>\n",
       "      <td>0.02</td>\n",
       "      <td>-0.20</td>\n",
       "      <td>-0.82</td>\n",
       "      <td>0.51</td>\n",
       "      <td>-0.01</td>\n",
       "      <td>-0.25</td>\n",
       "      <td>0.60</td>\n",
       "      <td>1.36</td>\n",
       "      <td>1.96</td>\n",
       "      <td>-0.18</td>\n",
       "      <td>-1.31</td>\n",
       "      <td>-1.48</td>\n",
       "      <td>1.20</td>\n",
       "      <td>1.66</td>\n",
       "      <td>1.96</td>\n",
       "      <td>-0.25</td>\n",
       "    </tr>\n",
       "    <tr>\n",
       "      <th>2023-09-08</th>\n",
       "      <td>17</td>\n",
       "      <td>0.07</td>\n",
       "      <td>443.95</td>\n",
       "      <td>183.06</td>\n",
       "      <td>1.00</td>\n",
       "      <td>0.99</td>\n",
       "      <td>78.15</td>\n",
       "      <td>-1.46</td>\n",
       "      <td>0.77</td>\n",
       "      <td>-0.19</td>\n",
       "      <td>-0.77</td>\n",
       "      <td>0.51</td>\n",
       "      <td>-0.07</td>\n",
       "      <td>-1.12</td>\n",
       "      <td>-0.74</td>\n",
       "      <td>-0.01</td>\n",
       "      <td>-0.74</td>\n",
       "      <td>-0.04</td>\n",
       "      <td>-0.07</td>\n",
       "      <td>-0.11</td>\n",
       "      <td>-0.14</td>\n",
       "      <td>-1.07</td>\n",
       "      <td>1.22</td>\n",
       "      <td>-1.37</td>\n",
       "    </tr>\n",
       "    <tr>\n",
       "      <th>2023-09-11</th>\n",
       "      <td>16</td>\n",
       "      <td>0.06</td>\n",
       "      <td>446.87</td>\n",
       "      <td>183.50</td>\n",
       "      <td>1.00</td>\n",
       "      <td>0.99</td>\n",
       "      <td>75.20</td>\n",
       "      <td>-1.73</td>\n",
       "      <td>2.08</td>\n",
       "      <td>-0.16</td>\n",
       "      <td>-0.68</td>\n",
       "      <td>0.46</td>\n",
       "      <td>-0.22</td>\n",
       "      <td>-2.95</td>\n",
       "      <td>-4.28</td>\n",
       "      <td>0.34</td>\n",
       "      <td>-3.94</td>\n",
       "      <td>-0.82</td>\n",
       "      <td>-0.07</td>\n",
       "      <td>-0.89</td>\n",
       "      <td>0.65</td>\n",
       "      <td>-4.41</td>\n",
       "      <td>-2.72</td>\n",
       "      <td>-4.32</td>\n",
       "    </tr>\n",
       "    <tr>\n",
       "      <th>2023-09-12</th>\n",
       "      <td>15</td>\n",
       "      <td>0.06</td>\n",
       "      <td>444.42</td>\n",
       "      <td>183.32</td>\n",
       "      <td>1.00</td>\n",
       "      <td>0.99</td>\n",
       "      <td>77.87</td>\n",
       "      <td>-1.59</td>\n",
       "      <td>0.90</td>\n",
       "      <td>-0.21</td>\n",
       "      <td>-0.86</td>\n",
       "      <td>0.56</td>\n",
       "      <td>-0.09</td>\n",
       "      <td>2.67</td>\n",
       "      <td>4.25</td>\n",
       "      <td>-0.37</td>\n",
       "      <td>3.88</td>\n",
       "      <td>-0.47</td>\n",
       "      <td>-0.01</td>\n",
       "      <td>-0.48</td>\n",
       "      <td>0.20</td>\n",
       "      <td>3.50</td>\n",
       "      <td>1.16</td>\n",
       "      <td>-1.65</td>\n",
       "    </tr>\n",
       "  </tbody>\n",
       "</table>\n",
       "</div>"
      ],
      "text/plain": [
       "            business_day_to_expiry    t    st1  \\\n",
       "2023-09-06                      19 0.08 444.65   \n",
       "2023-09-07                      18 0.07 443.29   \n",
       "2023-09-08                      17 0.07 443.95   \n",
       "2023-09-11                      16 0.06 446.87   \n",
       "2023-09-12                      15 0.06 444.42   \n",
       "\n",
       "              st2  st1_pct  st2_pct    pv  \\\n",
       "2023-09-06 185.26     1.00     1.00 79.52   \n",
       "2023-09-07 183.47     1.00     0.99 79.27   \n",
       "2023-09-08 183.06     1.00     0.99 78.15   \n",
       "2023-09-11 183.50     1.00     0.99 75.20   \n",
       "2023-09-12 183.32     1.00     0.99 77.87   \n",
       "\n",
       "            delta_st1  delta_st2  gamma_st1  \\\n",
       "2023-09-06      -0.44      -0.76      -0.19   \n",
       "2023-09-07      -1.10       0.02      -0.20   \n",
       "2023-09-08      -1.46       0.77      -0.19   \n",
       "2023-09-11      -1.73       2.08      -0.16   \n",
       "2023-09-12      -1.59       0.90      -0.21   \n",
       "\n",
       "            gamma_st2  x_gamma  theta  \\\n",
       "2023-09-06      -0.81     0.49  -0.00   \n",
       "2023-09-07      -0.82     0.51  -0.01   \n",
       "2023-09-08      -0.77     0.51  -0.07   \n",
       "2023-09-11      -0.68     0.46  -0.22   \n",
       "2023-09-12      -0.86     0.56  -0.09   \n",
       "\n",
       "            option_pnl  delta_st1_pnl  \\\n",
       "2023-09-06         NaN            NaN   \n",
       "2023-09-07       -0.25           0.60   \n",
       "2023-09-08       -1.12          -0.74   \n",
       "2023-09-11       -2.95          -4.28   \n",
       "2023-09-12        2.67           4.25   \n",
       "\n",
       "            delta_st2_pnl  delta_pnl  \\\n",
       "2023-09-06            NaN        NaN   \n",
       "2023-09-07           1.36       1.96   \n",
       "2023-09-08          -0.01      -0.74   \n",
       "2023-09-11           0.34      -3.94   \n",
       "2023-09-12          -0.37       3.88   \n",
       "\n",
       "            gamma_st1_pnl  gamma_st2_pnl  \\\n",
       "2023-09-06            NaN            NaN   \n",
       "2023-09-07          -0.18          -1.31   \n",
       "2023-09-08          -0.04          -0.07   \n",
       "2023-09-11          -0.82          -0.07   \n",
       "2023-09-12          -0.47          -0.01   \n",
       "\n",
       "            gamma_pnl  x_gamma_pnl  \\\n",
       "2023-09-06        NaN          NaN   \n",
       "2023-09-07      -1.48         1.20   \n",
       "2023-09-08      -0.11        -0.14   \n",
       "2023-09-11      -0.89         0.65   \n",
       "2023-09-12      -0.48         0.20   \n",
       "\n",
       "            explained_pnl  delta_cumpnl  \\\n",
       "2023-09-06            NaN           NaN   \n",
       "2023-09-07           1.66          1.96   \n",
       "2023-09-08          -1.07          1.22   \n",
       "2023-09-11          -4.41         -2.72   \n",
       "2023-09-12           3.50          1.16   \n",
       "\n",
       "            option_cumpnl  \n",
       "2023-09-06            NaN  \n",
       "2023-09-07          -0.25  \n",
       "2023-09-08          -1.37  \n",
       "2023-09-11          -4.32  \n",
       "2023-09-12          -1.65  "
      ]
     },
     "execution_count": 26,
     "metadata": {},
     "output_type": "execute_result"
    }
   ],
   "source": [
    "results.head()"
   ]
  },
  {
   "cell_type": "code",
   "execution_count": 22,
   "id": "5993c34a-4954-4dc1-8127-916927e36cf2",
   "metadata": {
    "tags": []
   },
   "outputs": [],
   "source": [
    "priceable1 = DualDigital(\n",
    "    st1=100, k1=100, iv1=0.2, q1=0, b1=0, direction1='up',\n",
    "    st2=100, k2=100, iv2=0.3, q2=0, b2=0, direction2='up',\n",
    "    rho=0.8, r=0, t=1, unit=100, model='numerical_integration'\n",
    ")\n",
    "priceable1.calculate_present_value()\n",
    "priceable1.calculate_greeks()\n",
    "pv = priceable1.get_present_value()\n",
    "greeks = priceable1.get_greeks()"
   ]
  },
  {
   "cell_type": "code",
   "execution_count": 23,
   "id": "3e720bab-7c49-41d2-a37f-2022dd4f2b9c",
   "metadata": {
    "tags": []
   },
   "outputs": [
    {
     "data": {
      "text/plain": [
       "(38.703420454762856,\n",
       " {'dst1': 0.9137233466539385,\n",
       "  'dst2': 0.6803422720587093,\n",
       "  'dst1**2': -0.05994930347696936,\n",
       "  'dst2**2': -0.02771764464171156,\n",
       "  'dst1*dst2': 0.04209553019052237,\n",
       "  'dt': 0.01767659240110716})"
      ]
     },
     "execution_count": 23,
     "metadata": {},
     "output_type": "execute_result"
    }
   ],
   "source": [
    "bump1 = 2\n",
    "bump2 = 3\n",
    "priceable1 = DualDigital(\n",
    "    st1=100+bump1, k1=100, iv1=0.2, q1=0, b1=0, direction1='up',\n",
    "    st2=100+bump2, k2=100, iv2=0.3, q2=0, b2=0, direction2='up',\n",
    "    rho=0.8, r=0, t=251/252, unit=100, model='numerical_integration'\n",
    ")\n",
    "priceable1.calculate_present_value()\n",
    "priceable1.calculate_greeks()\n",
    "priceable1.get_present_value(), priceable1.get_greeks()"
   ]
  },
  {
   "cell_type": "code",
   "execution_count": 25,
   "id": "e268f563-0e7b-4ee3-93d6-ec16d4579ee4",
   "metadata": {
    "tags": []
   },
   "outputs": [
    {
     "data": {
      "text/plain": [
       "(34.839025379718095, 38.70111913627463)"
      ]
     },
     "execution_count": 25,
     "metadata": {},
     "output_type": "execute_result"
    }
   ],
   "source": [
    "delta1 = greeks.get('dst1') * bump1\n",
    "delta2 = greeks.get('dst2') * bump2\n",
    "delta = delta1 + delta2\n",
    "gamma1 = greeks.get('dst1**2') * 0.5 * (bump1**2)\n",
    "gamma2 = greeks.get('dst2**2') * 0.5 * (bump2**2)\n",
    "gamma = gamma1 + gamma2\n",
    "x_gamma = greeks.get('dst1*dst2') * (bump1*bump2)\n",
    "theta = greeks.get('dt')\n",
    "pnl = delta + gamma + x_gamma + theta\n",
    "pv_new = pv + pnl\n",
    "pv, pv_new"
   ]
  }
 ],
 "metadata": {
  "kernelspec": {
   "display_name": "Python 3 (ipykernel)",
   "language": "python",
   "name": "python3"
  },
  "language_info": {
   "codemirror_mode": {
    "name": "ipython",
    "version": 3
   },
   "file_extension": ".py",
   "mimetype": "text/x-python",
   "name": "python",
   "nbconvert_exporter": "python",
   "pygments_lexer": "ipython3",
   "version": "3.11.5"
  }
 },
 "nbformat": 4,
 "nbformat_minor": 5
}
