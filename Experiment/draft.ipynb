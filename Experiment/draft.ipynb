{
 "cells": [
  {
   "cell_type": "code",
   "execution_count": null,
   "id": "6180e1ae-87f3-4351-a82e-0867d91cdcb2",
   "metadata": {
    "tags": []
   },
   "outputs": [],
   "source": [
    "# -----\n",
    "# IMPORT LIBRAIRIES\n",
    "# -----\n",
    "import numpy as np\n",
    "import pandas as pd\n",
    "from tqdm.auto import tqdm\n",
    "import plotly.express as px\n",
    "from module.pricing import DualDigitalPricer\n",
    "from module.batch import DualDigitalBatchBuilder, BatchPricing\n",
    "\n",
    "# -----\n",
    "# SET DISPLAY SETTINGS\n",
    "# -----\n",
    "pd.set_option('display.width', 50)\n",
    "pd.set_option('display.max_rows', 50)\n",
    "pd.set_option('display.max_columns', 50)\n",
    "pd.set_option('display.float_format', lambda x: '{:,.2f}'.format(x))"
   ]
  },
  {
   "cell_type": "code",
   "execution_count": null,
   "id": "8e1a83bd-9a8e-4d59-9951-7323b06be116",
   "metadata": {
    "tags": []
   },
   "outputs": [],
   "source": [
    "# -----\n",
    "# IMPORT DATA\n",
    "# -----\n",
    "df1 = pd.read_csv('data/SPY.csv', index_col=0, parse_dates=True).loc[:, ['Adj Close']]\n",
    "df2 = pd.read_csv('data/IWM.csv', index_col=0, parse_dates=True).loc[:, ['Adj Close']]\n",
    "df = pd.concat([df1, df2], axis=1).dropna()\n",
    "df.columns = ['st1', 'st2']\n",
    "df_snap = df.iloc[-252:]"
   ]
  },
  {
   "cell_type": "code",
   "execution_count": null,
   "id": "40462bb8-4b48-41ab-a344-56d3ec39b125",
   "metadata": {
    "tags": []
   },
   "outputs": [],
   "source": [
    "df_snap.pct_change().std() * np.sqrt(252)"
   ]
  },
  {
   "cell_type": "code",
   "execution_count": null,
   "id": "9b977a80-4cc8-4aa7-85ac-f717bda5a6ba",
   "metadata": {
    "tags": []
   },
   "outputs": [],
   "source": [
    "df_snap.diff().corr()"
   ]
  },
  {
   "cell_type": "code",
   "execution_count": null,
   "id": "cf67bd25-1d29-460e-a97c-ebd93710e8fb",
   "metadata": {
    "tags": []
   },
   "outputs": [],
   "source": [
    "# -----\n",
    "# CONSTRUCT BATCH PRICING\n",
    "# -----\n",
    "bb_obj = DualDigitalBatchBuilder(timeseries=df_snap, roll=20)\n",
    "batch_df = bb_obj.build_batch(k1=1, k2=1, iv1=0.17, iv2=0.21, q1=0, q2=0, b1=0, b2=0, direction1='up', direction2='up', rho=0.88, r=0.0, t=1, notional=100, model='numerical_integration')"
   ]
  },
  {
   "cell_type": "code",
   "execution_count": null,
   "id": "e0f39223-0dbc-4d86-805b-365002ca0cd1",
   "metadata": {
    "tags": []
   },
   "outputs": [],
   "source": [
    "# -----\n",
    "# PRICE\n",
    "# -----\n",
    "bp_obj = BatchPricing(batch=batch_df)\n",
    "results = bp_obj.calculate(pricer=DualDigitalPricer, greeks_to_calculate='calculate_greeks')\n",
    "results = pd.DataFrame(results).transpose()"
   ]
  },
  {
   "cell_type": "code",
   "execution_count": null,
   "id": "b0c66492-1c36-4062-9c08-0bbe00d4eeb0",
   "metadata": {
    "tags": []
   },
   "outputs": [],
   "source": [
    "# -----\n",
    "# COMPUTE PNL\n",
    "# -----\n",
    "pnl_df = pd.DataFrame(index=results.index)\n",
    "\n",
    "pnl_df.loc[:, 'pv'] = results['pv'].diff()\n",
    "pnl_df.loc[:, 'dst1'] = results['st1'].diff() * results['dst1'].shift()\n",
    "pnl_df.loc[:, 'dst2'] = results['st2'].diff() * results['dst2'].shift()\n",
    "pnl_df.loc[:, 'dst'] = pnl_df['dst1'] + pnl_df['dst2']\n",
    "pnl_df.loc[:, 'dst1**2'] = results['st1'].diff().pow(2) * results['dst1**2'].shift() * 0.5\n",
    "pnl_df.loc[:, 'dst2**2'] = results['st2'].diff().pow(2) * results['dst2**2'].shift() * 0.5\n",
    "pnl_df.loc[:, 'dst1*dst2'] = results['st1'].diff() * results['st2'].diff() * results['dst1*dst2'].shift()\n",
    "pnl_df.loc[:, 'dt'] = results['dt'].shift()\n",
    "pnl_df = pnl_df.reset_index(names=['date', 'roll'])\n",
    "pnl_df.loc[:, 'pe'] = pnl_df[['dst1', 'dst2', 'dst', 'dst1**2', 'dst2**2', 'dst1*dst2', 'dt']].sum(axis=1)\n",
    "pnl_df = pnl_df.dropna()"
   ]
  },
  {
   "cell_type": "code",
   "execution_count": null,
   "id": "17452f22-878c-4966-aa9c-bb01d0e41fd6",
   "metadata": {
    "tags": []
   },
   "outputs": [],
   "source": [
    "pnl_df.groupby('roll')[['pv', 'pe']].sum()"
   ]
  },
  {
   "cell_type": "code",
   "execution_count": null,
   "id": "c9ac32a2-f85c-44ba-9298-90b1ebeefaec",
   "metadata": {
    "tags": []
   },
   "outputs": [],
   "source": [
    "results"
   ]
  },
  {
   "cell_type": "code",
   "execution_count": null,
   "id": "d19cba75-1a45-4f16-b2b3-51bde10108fc",
   "metadata": {},
   "outputs": [],
   "source": []
  }
 ],
 "metadata": {
  "kernelspec": {
   "display_name": "Python 3 (ipykernel)",
   "language": "python",
   "name": "python3"
  },
  "language_info": {
   "codemirror_mode": {
    "name": "ipython",
    "version": 3
   },
   "file_extension": ".py",
   "mimetype": "text/x-python",
   "name": "python",
   "nbconvert_exporter": "python",
   "pygments_lexer": "ipython3",
   "version": "3.11.5"
  }
 },
 "nbformat": 4,
 "nbformat_minor": 5
}
