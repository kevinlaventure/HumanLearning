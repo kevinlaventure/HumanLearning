{
 "cells": [
  {
   "cell_type": "code",
   "execution_count": 1,
   "id": "6180e1ae-87f3-4351-a82e-0867d91cdcb2",
   "metadata": {
    "tags": []
   },
   "outputs": [],
   "source": [
    "# -----\n",
    "# IMPORT LIBRAIRIES\n",
    "# -----\n",
    "import numpy as np\n",
    "import pandas as pd\n",
    "from tqdm.auto import tqdm\n",
    "import plotly.express as px\n",
    "from scipy.optimize import minimize, minimize_scalar\n",
    "from module.batch import OptionBatch, DualDigitalBatch\n",
    "\n",
    "# -----\n",
    "# SET DISPLAY SETTINGS\n",
    "# -----\n",
    "pd.set_option('display.width', 50)\n",
    "pd.set_option('display.max_rows', 50)\n",
    "pd.set_option('display.max_columns', 50)\n",
    "pd.set_option('display.float_format', lambda x: '{:,.4f}'.format(x))"
   ]
  },
  {
   "cell_type": "code",
   "execution_count": 2,
   "id": "436675c5-62c2-46b6-8e01-701d1a31783e",
   "metadata": {
    "tags": []
   },
   "outputs": [],
   "source": [
    "def calculate_rv(timeseries, roll, k, q, b, r, t, kind='call', model='black_scholes'):\n",
    "    \n",
    "    def objective_function(x, timeseries, roll, k, q, b, r, t):\n",
    "        \n",
    "        option_batch = OptionBatch(extra_output_function='calculate_delta', display_progress=False)\n",
    "        option_batch.build_static_rolling_batch(timeseries=timeseries, roll=roll, k=k, iv=x, q=q, b=b, r=r, t=t, kind=kind, model=model)\n",
    "        \n",
    "        results = option_batch.calculate_batch()\n",
    "        \n",
    "        delta_pnl = (results['st'].diff() * results['dst'].shift())\n",
    "        option_pnl = results['pv'].diff()\n",
    "        \n",
    "        option_pnl.loc[option_pnl.index.get_level_values(2) == roll] = 0\n",
    "        delta_pnl.loc[delta_pnl.index.get_level_values(2) == roll] = 0\n",
    "        delta_pnl_sum = delta_pnl.sum()\n",
    "        option_pnl_sum = option_pnl.sum()\n",
    "        \n",
    "        hedging_error = (delta_pnl_sum - option_pnl_sum)**2\n",
    "        \n",
    "        return hedging_error\n",
    "\n",
    "    res = minimize_scalar(objective_function, bounds=(0.02, 10), args=(timeseries, roll, k, q, b, r, t))\n",
    "    \n",
    "    return res.x"
   ]
  },
  {
   "cell_type": "code",
   "execution_count": 3,
   "id": "a602cfe2-5854-4f2b-9cf0-bfea92b49698",
   "metadata": {
    "tags": []
   },
   "outputs": [],
   "source": [
    "def calculate_rho(timeseries, roll, k1, k2, iv1, iv2, q1, q2, b1, b2, direction1, direction2, r, t):\n",
    "    \n",
    "    def objective_function(x,\n",
    "                           timeseries, roll, k1, k2, iv1, iv2, q1, q2, b1, b2, \n",
    "                           direction1, direction2, r, t):\n",
    "        \n",
    "        dual_digital_batch = DualDigitalBatch(extra_output_function='calculate_delta', display_progress=True)\n",
    "        dual_digital_batch.build_static_rolling_batch(timeseries=timeseries, roll=roll, k1=k1, k2=k2, iv1=iv1, iv2=iv2, q1=q1, q2=q2, b1=b1, b2=b2, \n",
    "                                                      direction1=direction1, direction2=direction2, rho=x, r=r, t=t, notional=100, \n",
    "                                                      model='numerical_integration')\n",
    "        \n",
    "        results = dual_digital_batch.calculate_batch()\n",
    "        \n",
    "        delta1_pnl = (results['st1'].diff() * results['dst1'].shift())\n",
    "        delta2_pnl = (results['st2'].diff() * results['dst2'].shift())\n",
    "        delta_pnl = delta1_pnl + delta2_pnl\n",
    "        option_pnl = results['pv'].diff()\n",
    "        \n",
    "        option_pnl.loc[option_pnl.index.get_level_values(2) == roll] = 0\n",
    "        delta_pnl.loc[delta_pnl.index.get_level_values(2) == roll] = 0\n",
    "        delta_pnl_sum = delta_pnl.sum()\n",
    "        option_pnl_sum = option_pnl.sum()\n",
    "        \n",
    "        hedging_error = (delta_pnl_sum - option_pnl_sum)**2\n",
    "        \n",
    "        return hedging_error\n",
    "\n",
    "    res = minimize_scalar(objective_function, bounds=(-0.99, 0.99), args=(timeseries, roll, k1, k2, iv1, iv2, q1, q2, b1, b2, \n",
    "                                                                          direction1, direction2, r, t))\n",
    "    \n",
    "    return res.x"
   ]
  },
  {
   "cell_type": "code",
   "execution_count": 4,
   "id": "81689def-7e7e-4cbb-968f-5def9f6ffb38",
   "metadata": {
    "tags": []
   },
   "outputs": [],
   "source": [
    "df1 = pd.read_csv('data/SPY.csv', index_col=0, parse_dates=True).loc[:, 'Adj Close']\n",
    "df2 = pd.read_csv('data/IWM.csv', index_col=0, parse_dates=True).loc[:, 'Adj Close']\n",
    "df = pd.concat([df1, df2], axis=1).dropna().iloc[-251:]\n",
    "df.columns = ['st1', 'st2']\n",
    "iv1 = calculate_rv(timeseries=df['st1'].to_frame('st'), roll=20, k=1, q=0, b=0, r=0, t=20)\n",
    "iv2 = calculate_rv(timeseries=df['st2'].to_frame('st'), roll=20, k=1, q=0, b=0, r=0, t=20)"
   ]
  },
  {
   "cell_type": "code",
   "execution_count": 5,
   "id": "e773dd0b-3a7e-4aa8-a838-f4f708013769",
   "metadata": {
    "tags": []
   },
   "outputs": [
    {
     "data": {
      "text/plain": [
       "st1   0.1663\n",
       "st2   0.2109\n",
       "dtype: float64"
      ]
     },
     "execution_count": 5,
     "metadata": {},
     "output_type": "execute_result"
    }
   ],
   "source": [
    "df.pct_change().std() * np.sqrt(252)"
   ]
  },
  {
   "cell_type": "code",
   "execution_count": 6,
   "id": "82afab16-c951-4777-b0f6-a16bfbd52ec9",
   "metadata": {
    "tags": []
   },
   "outputs": [
    {
     "data": {
      "text/plain": [
       "(0.15484778890962336, 0.20513878293563334)"
      ]
     },
     "execution_count": 6,
     "metadata": {},
     "output_type": "execute_result"
    }
   ],
   "source": [
    "iv1, iv2"
   ]
  },
  {
   "cell_type": "code",
   "execution_count": 7,
   "id": "257ab521-d405-4257-9429-2112c12d80f6",
   "metadata": {
    "tags": []
   },
   "outputs": [
    {
     "data": {
      "application/vnd.jupyter.widget-view+json": {
       "model_id": "3b92a580db3b4df2bd8932ee63cd9385",
       "version_major": 2,
       "version_minor": 0
      },
      "text/plain": [
       "  0%|          | 0/252 [00:00<?, ?it/s]"
      ]
     },
     "metadata": {},
     "output_type": "display_data"
    },
    {
     "data": {
      "application/vnd.jupyter.widget-view+json": {
       "model_id": "e08d4c43d93c4ac6bb4e23cb1b59b702",
       "version_major": 2,
       "version_minor": 0
      },
      "text/plain": [
       "  0%|          | 0/252 [00:00<?, ?it/s]"
      ]
     },
     "metadata": {},
     "output_type": "display_data"
    },
    {
     "data": {
      "application/vnd.jupyter.widget-view+json": {
       "model_id": "44f2f7bca50c49a0ac737f956a442a98",
       "version_major": 2,
       "version_minor": 0
      },
      "text/plain": [
       "  0%|          | 0/252 [00:00<?, ?it/s]"
      ]
     },
     "metadata": {},
     "output_type": "display_data"
    },
    {
     "data": {
      "application/vnd.jupyter.widget-view+json": {
       "model_id": "441c96a5f34b42b2b45b65cfa9847197",
       "version_major": 2,
       "version_minor": 0
      },
      "text/plain": [
       "  0%|          | 0/252 [00:00<?, ?it/s]"
      ]
     },
     "metadata": {},
     "output_type": "display_data"
    },
    {
     "data": {
      "application/vnd.jupyter.widget-view+json": {
       "model_id": "b50ae99573a44212957c4d34238c654d",
       "version_major": 2,
       "version_minor": 0
      },
      "text/plain": [
       "  0%|          | 0/252 [00:00<?, ?it/s]"
      ]
     },
     "metadata": {},
     "output_type": "display_data"
    },
    {
     "data": {
      "application/vnd.jupyter.widget-view+json": {
       "model_id": "95407aa90be549daa43b7613d573b824",
       "version_major": 2,
       "version_minor": 0
      },
      "text/plain": [
       "  0%|          | 0/252 [00:00<?, ?it/s]"
      ]
     },
     "metadata": {},
     "output_type": "display_data"
    },
    {
     "data": {
      "application/vnd.jupyter.widget-view+json": {
       "model_id": "0ac65a25d10b4a0aa837c48cd627be0d",
       "version_major": 2,
       "version_minor": 0
      },
      "text/plain": [
       "  0%|          | 0/252 [00:00<?, ?it/s]"
      ]
     },
     "metadata": {},
     "output_type": "display_data"
    },
    {
     "data": {
      "application/vnd.jupyter.widget-view+json": {
       "model_id": "1df7a4d88b504eefb953c0b2cbdc9529",
       "version_major": 2,
       "version_minor": 0
      },
      "text/plain": [
       "  0%|          | 0/252 [00:00<?, ?it/s]"
      ]
     },
     "metadata": {},
     "output_type": "display_data"
    },
    {
     "data": {
      "application/vnd.jupyter.widget-view+json": {
       "model_id": "263756b00b6d4c6d8d050d98f37d2e5c",
       "version_major": 2,
       "version_minor": 0
      },
      "text/plain": [
       "  0%|          | 0/252 [00:00<?, ?it/s]"
      ]
     },
     "metadata": {},
     "output_type": "display_data"
    },
    {
     "data": {
      "application/vnd.jupyter.widget-view+json": {
       "model_id": "b30a57976d6c49bba39f75227602c262",
       "version_major": 2,
       "version_minor": 0
      },
      "text/plain": [
       "  0%|          | 0/252 [00:00<?, ?it/s]"
      ]
     },
     "metadata": {},
     "output_type": "display_data"
    },
    {
     "data": {
      "application/vnd.jupyter.widget-view+json": {
       "model_id": "e5c342970af24568adb4153da8b9f11a",
       "version_major": 2,
       "version_minor": 0
      },
      "text/plain": [
       "  0%|          | 0/252 [00:00<?, ?it/s]"
      ]
     },
     "metadata": {},
     "output_type": "display_data"
    },
    {
     "data": {
      "text/plain": [
       "0.6175661622462038"
      ]
     },
     "execution_count": 7,
     "metadata": {},
     "output_type": "execute_result"
    }
   ],
   "source": [
    "calculate_rho(timeseries=df, roll=20, k1=1, k2=1, iv1=iv1, iv2=iv2, \n",
    "              q1=0, q2=0, b1=0, b2=0, direction1='up', direction2='up', r=0, t=20)"
   ]
  },
  {
   "cell_type": "code",
   "execution_count": null,
   "id": "7de41d4f-96b6-4d5c-a182-69968623214c",
   "metadata": {},
   "outputs": [],
   "source": []
  },
  {
   "cell_type": "code",
   "execution_count": null,
   "id": "9e679dc8-a7bf-4afb-8780-8bd9d8c3dd8b",
   "metadata": {},
   "outputs": [],
   "source": []
  },
  {
   "cell_type": "code",
   "execution_count": null,
   "id": "48859ebd-541a-47af-b316-ce1716b9db22",
   "metadata": {},
   "outputs": [],
   "source": []
  },
  {
   "cell_type": "code",
   "execution_count": null,
   "id": "395382c2-a63a-4a94-8762-70763697819f",
   "metadata": {},
   "outputs": [],
   "source": []
  },
  {
   "cell_type": "raw",
   "id": "445300c3-1c27-4994-8230-480f87467bae",
   "metadata": {
    "tags": []
   },
   "source": [
    "def objective_function(params, timeseries):\n",
    "    iv1, iv2, rho = params\n",
    "    print(iv1, iv2, rho)\n",
    "    batch = DualDigitalBatch(extra_output_function='calculate_delta')\n",
    "    batch.build_static_rolling_batch(timeseries=timeseries, roll=20, k1=1, k2=1, iv1=iv1, iv2=iv2, q1=0, q2=0, b1=0, b2=0, \n",
    "                                     direction1='up', direction2='up', rho=rho, r=0.0, t=20, notional=100, model='numerical_integration')\n",
    "    results = batch.calculate_batch()\n",
    "    \n",
    "    results.loc[:, 'pnl_dst1'] = results['st1'].diff() * results['dst1'].shift()\n",
    "    results.loc[:, 'pnl_dst2'] = results['st2'].diff() * results['dst2'].shift()\n",
    "    hedging_error = results['pv'].diff().sum() - results[['pnl_dst1', 'pnl_dst2']].sum().sum()\n",
    "    return hedging_error**2"
   ]
  },
  {
   "cell_type": "raw",
   "id": "c3b30a37-61d5-4da1-981c-d3c1a720d6bb",
   "metadata": {
    "tags": []
   },
   "source": [
    "x = minimize(objective_function, [iv1_guess, iv2_guess, rho_guess], args=(df_snap), bounds=((0, None), (0, None), (0, 0.99)))"
   ]
  },
  {
   "cell_type": "code",
   "execution_count": 8,
   "id": "ab48f740-7de7-40d5-8376-02702f416305",
   "metadata": {
    "tags": []
   },
   "outputs": [
    {
     "ename": "NameError",
     "evalue": "name 'x' is not defined",
     "output_type": "error",
     "traceback": [
      "\u001b[0;31m---------------------------------------------------------------------------\u001b[0m",
      "\u001b[0;31mNameError\u001b[0m                                 Traceback (most recent call last)",
      "Cell \u001b[0;32mIn[8], line 1\u001b[0m\n\u001b[0;32m----> 1\u001b[0m x\n",
      "\u001b[0;31mNameError\u001b[0m: name 'x' is not defined"
     ]
    }
   ],
   "source": [
    "x"
   ]
  },
  {
   "cell_type": "raw",
   "id": "b5556661-0141-425a-a256-4979743f4150",
   "metadata": {},
   "source": [
    "# -----\n",
    "# COMPUTE PNL\n",
    "# -----\n",
    "pnl_df = pd.DataFrame(index=results.index)\n",
    "\n",
    "pnl_df.loc[:, 'pv'] = results['pv'].diff()\n",
    "pnl_df.loc[:, 'dst1'] = results['st1'].diff() * results['dst1'].shift()\n",
    "pnl_df.loc[:, 'dst2'] = results['st2'].diff() * results['dst2'].shift()\n",
    "pnl_df.loc[:, 'dst'] = pnl_df['dst1'] + pnl_df['dst2']\n",
    "pnl_df.loc[:, 'dst1**2'] = results['st1'].diff().pow(2) * results['dst1**2'].shift() * 0.5\n",
    "pnl_df.loc[:, 'dst2**2'] = results['st2'].diff().pow(2) * results['dst2**2'].shift() * 0.5\n",
    "pnl_df.loc[:, 'dst1*dst2'] = results['st1'].diff() * results['st2'].diff() * results['dst1*dst2'].shift()\n",
    "pnl_df.loc[:, 'dt'] = results['dt'].shift()"
   ]
  },
  {
   "cell_type": "code",
   "execution_count": null,
   "id": "2ff4bc2d-50fa-41d2-9966-0b7806faa472",
   "metadata": {},
   "outputs": [],
   "source": []
  },
  {
   "cell_type": "raw",
   "id": "de3d000a-9756-4248-aa23-1f7aff0e1dd4",
   "metadata": {
    "tags": []
   },
   "source": [
    "# -----\n",
    "# COMPUTE PNL\n",
    "# -----\n",
    "pnl_df = pd.DataFrame(index=results.index)"
   ]
  },
  {
   "cell_type": "raw",
   "id": "76f80a97-7cba-4bbd-a790-95deaad27791",
   "metadata": {
    "tags": []
   },
   "source": [
    "# -----\n",
    "# COMPUTE PNL\n",
    "# -----\n",
    "pnl_df = pd.DataFrame(index=results.index)\n",
    "\n",
    "pnl_df.loc[:, 'pv'] = results['pv'].diff()\n",
    "pnl_df.loc[:, 'dst1'] = results['st1'].diff() * results['dst1'].shift()\n",
    "pnl_df.loc[:, 'dst2'] = results['st2'].diff() * results['dst2'].shift()\n",
    "pnl_df.loc[:, 'dst'] = pnl_df['dst1'] + pnl_df['dst2']\n",
    "pnl_df.loc[:, 'dst1**2'] = results['st1'].diff().pow(2) * results['dst1**2'].shift() * 0.5\n",
    "pnl_df.loc[:, 'dst2**2'] = results['st2'].diff().pow(2) * results['dst2**2'].shift() * 0.5\n",
    "pnl_df.loc[:, 'dst1*dst2'] = results['st1'].diff() * results['st2'].diff() * results['dst1*dst2'].shift()\n",
    "pnl_df.loc[:, 'dt'] = results['dt'].shift()"
   ]
  },
  {
   "cell_type": "raw",
   "id": "c7054fbe-c98f-4f0e-b8f0-1c3db6c84540",
   "metadata": {
    "tags": []
   },
   "source": [
    "pnl_df.loc[:, 'pe'] = pnl_df[['dst', 'dst1**2', 'dst2**2', 'dst1*dst2', 'dt']].sum(axis=1)\n",
    "pnl_df = pnl_df.dropna()"
   ]
  },
  {
   "cell_type": "raw",
   "id": "4c36af47-92ed-4fb1-8423-2b76657bc393",
   "metadata": {
    "tags": []
   },
   "source": [
    "pnl_df[['pv', 'pe']].sum()"
   ]
  },
  {
   "cell_type": "raw",
   "id": "5c8c8c54-f65e-4289-9379-7b05fbf9672b",
   "metadata": {
    "tags": []
   },
   "source": [
    "pnl_df.drop([\"dst1\", \"dst2\", 'pe'], axis=1).sum()"
   ]
  },
  {
   "cell_type": "code",
   "execution_count": null,
   "id": "2a835a1f-902e-4610-860f-3385a0daaf59",
   "metadata": {},
   "outputs": [],
   "source": []
  }
 ],
 "metadata": {
  "kernelspec": {
   "display_name": "Python 3 (ipykernel)",
   "language": "python",
   "name": "python3"
  },
  "language_info": {
   "codemirror_mode": {
    "name": "ipython",
    "version": 3
   },
   "file_extension": ".py",
   "mimetype": "text/x-python",
   "name": "python",
   "nbconvert_exporter": "python",
   "pygments_lexer": "ipython3",
   "version": "3.11.5"
  }
 },
 "nbformat": 4,
 "nbformat_minor": 5
}
