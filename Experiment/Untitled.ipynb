{
 "cells": [
  {
   "cell_type": "code",
   "execution_count": 62,
   "id": "cbdca5c9-4cdd-4d86-ae99-260f909f2d54",
   "metadata": {
    "tags": []
   },
   "outputs": [],
   "source": [
    "import numpy as np\n",
    "import pandas as pd\n",
    "from scipy import integrate\n",
    "from scipy.stats import norm\n",
    "from scipy.integrate import quad\n",
    "from abc import ABC, abstractmethod\n",
    "from typing import Union, Tuple, Dict\n",
    "\n",
    "\n",
    "class MonteCarlo:\n",
    "\n",
    "    def __init__(self, num_path: int, num_simulation: int, num_path_per_year: int = 252):\n",
    "        \"\"\"\n",
    "        Initialize a MonteCarlo object\n",
    "        @param num_path: number of path\n",
    "        @param num_simulation: number of simulation\n",
    "        @param num_path_per_year: number of path in a year, defaults to 252.\n",
    "        \"\"\"\n",
    "        self.num_path = num_path\n",
    "        self.num_simulation = num_simulation\n",
    "        self.num_path_per_year = num_path_per_year\n",
    "\n",
    "    def univariate_gbm(self, st: float, iv: float, d: float, b: float, r: float):\n",
    "        \"\"\"\n",
    "        Generate univariate geometric brownian motion\n",
    "        @param st: stock price\n",
    "        @param iv: implied volatility\n",
    "        @param d: continuously compounded dividend yield\n",
    "        @param b: continuously compounded repo rate or borrowing cost\n",
    "        @param r: continuously compounded risk-free interest rate\n",
    "        @return: single asset generated timeseries\n",
    "        \"\"\"\n",
    "        dt = 1 / self.num_path_per_year\n",
    "\n",
    "        ts = np.full(shape=(self.num_path + 1, self.num_simulation), fill_value=st)\n",
    "\n",
    "        z = np.random.standard_normal(size=self.num_simulation)\n",
    "\n",
    "        drift = r - d - b\n",
    "\n",
    "        for i in range(1, self.num_path + 1):\n",
    "            ts[i] = ts[i - 1] * np.exp((drift - 0.5 * iv ** 2) * dt + iv * np.sqrt(dt) * z[i - 1])\n",
    "\n",
    "        return ts\n",
    "\n",
    "    def bivariate_gbm(self,\n",
    "                      st_1: float, iv_1: float, d_1: float, b_1: float,\n",
    "                      st_2: float, iv_2: float, d_2: float, b_2: float,\n",
    "                      rho: float, r: float) -> Tuple[np.array, np.array]:\n",
    "        \"\"\"\n",
    "        Generate bivariate geometric brownian motion\n",
    "        @param st_1: asset 1 stock price\n",
    "        @param iv_1: asset 1 implied volatility\n",
    "        @param d_1: asset 1 continuously compounded dividend yield\n",
    "        @param b_1: asset 1 continuously compounded repo rate or borrowing cost\n",
    "        @param st_2: asset 2 stock price\n",
    "        @param iv_2: asset 2 implied volatility\n",
    "        @param d_2: asset 2 continuously compounded dividend yield\n",
    "        @param b_2: asset 2 continuously compounded repo rate or borrowing cost\n",
    "        @param rho: implied correlation between asset 1 and asset 2\n",
    "        @param r: continuously compounded risk-free interest rate\n",
    "        @return: 2 correlated assets generated timeseries\n",
    "        \"\"\"\n",
    "        dt = 1 / self.num_path_per_year\n",
    "        mu = np.array([0, 0])\n",
    "        cov = np.array([[1, rho], [rho, 1]])\n",
    "\n",
    "        ts_1 = np.full(shape=(self.num_path + 1, self.num_simulation), fill_value=st_1)\n",
    "        ts_2 = np.full(shape=(self.num_path + 1, self.num_simulation), fill_value=st_2)\n",
    "\n",
    "        z = np.random.multivariate_normal(mean=mu, cov=cov, size=(self.num_path, self.num_simulation))\n",
    "\n",
    "        drift_1 = r - d_1 - b_1\n",
    "        drift_2 = r - d_2 - b_2\n",
    "\n",
    "        for i in range(1, self.num_path + 1):\n",
    "            ts_1[i] = ts_1[i - 1] * np.exp((drift_1 - 0.5 * iv_1 ** 2) * dt + iv_1 * np.sqrt(dt) * z[i - 1, :, 0])\n",
    "            ts_2[i] = ts_2[i - 1] * np.exp((drift_2 - 0.5 * iv_2 ** 2) * dt + iv_2 * np.sqrt(dt) * z[i - 1, :, 1])\n",
    "\n",
    "        return ts_1, ts_2\n",
    "\n",
    "\n",
    "class Priceable(ABC):\n",
    "    def __init__(self):\n",
    "        self.pv: Union[None, float] = None\n",
    "        self.greeks: Dict[str, float] = dict()\n",
    "\n",
    "    @abstractmethod\n",
    "    def calculate_present_value(self, pricing_model: Union[None, str] = None) -> None:\n",
    "        ...\n",
    "\n",
    "    def calculate_greeks(self) -> None:\n",
    "        pass\n",
    "\n",
    "    def get_present_value(self) -> float:\n",
    "        return self.pv\n",
    "\n",
    "    def get_greeks(self):\n",
    "        pass\n",
    "\n",
    "\n",
    "class Forward(Priceable):\n",
    "\n",
    "    def __init__(self, st: float, q: float, b: float, r: float, t: float, k: float = 0):\n",
    "        super().__init__()\n",
    "        self.st = st\n",
    "        self.q = q\n",
    "        self.b = b\n",
    "        self.r = r\n",
    "        self.t = t\n",
    "        self.k = k\n",
    "        \n",
    "    def __post_init__(self):\n",
    "        self.d = np.exp(-self.r * self.t)\n",
    "\n",
    "    def calculate_present_value(self, pricing_model=None) -> None:\n",
    "        self.__post_init__()\n",
    "        self.fwd = self.st * np.exp((self.r - self.q - self.b) * self.t)\n",
    "        d_strike = self.k * self.d\n",
    "        d_fwd = self.fwd * self.d\n",
    "        self.pv = d_fwd - d_strike"
   ]
  },
  {
   "cell_type": "code",
   "execution_count": 76,
   "id": "7356afb2-d0e0-4143-9d0a-c0cb0cca0437",
   "metadata": {
    "tags": []
   },
   "outputs": [],
   "source": [
    "fwd = Forward(st=100, q=0, b=0, r=0.05, t=1, k=0)"
   ]
  },
  {
   "cell_type": "code",
   "execution_count": 77,
   "id": "1ff554ac-84e5-48f9-8458-c151195447f0",
   "metadata": {
    "tags": []
   },
   "outputs": [],
   "source": [
    "fwd.calculate_present_value()"
   ]
  },
  {
   "cell_type": "code",
   "execution_count": 78,
   "id": "6905b36d-40b7-4945-93bf-a6de0881cf70",
   "metadata": {
    "tags": []
   },
   "outputs": [
    {
     "data": {
      "text/plain": [
       "100.00000000000001"
      ]
     },
     "execution_count": 78,
     "metadata": {},
     "output_type": "execute_result"
    }
   ],
   "source": [
    "fwd.get_present_value()"
   ]
  },
  {
   "cell_type": "code",
   "execution_count": 66,
   "id": "e8636b2f-79f1-4534-bcb8-eefd67ac2d5c",
   "metadata": {
    "tags": []
   },
   "outputs": [
    {
     "data": {
      "text/plain": [
       "91.39311852712282"
      ]
     },
     "execution_count": 66,
     "metadata": {},
     "output_type": "execute_result"
    }
   ],
   "source": [
    "fwd.fwd"
   ]
  },
  {
   "cell_type": "code",
   "execution_count": null,
   "id": "27905648-a7b2-4ff0-938c-d0707ffa19d1",
   "metadata": {},
   "outputs": [],
   "source": [
    "class Greeks:\n",
    "    BUMP_MAPPING = {\n",
    "        ''\n",
    "    }"
   ]
  }
 ],
 "metadata": {
  "kernelspec": {
   "display_name": "Python 3 (ipykernel)",
   "language": "python",
   "name": "python3"
  },
  "language_info": {
   "codemirror_mode": {
    "name": "ipython",
    "version": 3
   },
   "file_extension": ".py",
   "mimetype": "text/x-python",
   "name": "python",
   "nbconvert_exporter": "python",
   "pygments_lexer": "ipython3",
   "version": "3.11.5"
  }
 },
 "nbformat": 4,
 "nbformat_minor": 5
}
