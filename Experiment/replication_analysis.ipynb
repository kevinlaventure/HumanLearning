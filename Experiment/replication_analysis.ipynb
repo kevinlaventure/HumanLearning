{
 "cells": [
  {
   "cell_type": "code",
   "execution_count": null,
   "metadata": {},
   "outputs": [],
   "source": []
  },
  {
   "cell_type": "code",
   "execution_count": 1,
   "metadata": {},
   "outputs": [],
   "source": [
    "import numpy as np\n",
    "import pandas as pd\n",
    "import plotly.graph_objects as go\n",
    "from module.pricing import option_bs\n",
    "pd.set_option('display.float_format', lambda x: '{:,.2f}'.format(x))"
   ]
  },
  {
   "cell_type": "markdown",
   "metadata": {},
   "source": [
    "__Input__"
   ]
  },
  {
   "cell_type": "code",
   "execution_count": 2,
   "metadata": {},
   "outputs": [],
   "source": [
    "spot = 100\n",
    "sigma = 0.2\n",
    "T = 1\n",
    "r = 0"
   ]
  },
  {
   "cell_type": "markdown",
   "metadata": {},
   "source": [
    "__Run__"
   ]
  },
  {
   "cell_type": "code",
   "execution_count": 3,
   "metadata": {},
   "outputs": [],
   "source": [
    "strikes = [\n",
    "    spot*(1-sigma*2),\n",
    "    spot*(1-sigma),\n",
    "    spot,\n",
    "    spot*(1+sigma),\n",
    "    spot*(1+sigma*2),\n",
    "]\n",
    "strikes = [np.round(strike) for strike in strikes]\n",
    "\n",
    "global_results = dict()\n",
    "for strike in strikes:\n",
    "    for bump in (-1, -0.5, 0, 0.5, 1):\n",
    "        spot_bumped = spot * (1 + sigma*bump)\n",
    "        pricing_results = option_bs(option_type='call', S=spot_bumped, K=strike, T=T, r=r, sigma=sigma)\n",
    "        gamma_cash = (spot_bumped**2 * pricing_results['Gamma']) / 100\n",
    "        global_results[(strike, bump)] = gamma_cash\n",
    "\n",
    "matrix = pd.Series(global_results).unstack().unstack().unstack()\n",
    "gamma_cash_target = pd.Series([1e6] * matrix.shape[0], index=matrix.index)\n",
    "matirx_inv = pd.DataFrame(np.linalg.pinv(matrix.values), matrix.columns, matrix.index)\n",
    "weights = np.round(matirx_inv.dot(gamma_cash_target))"
   ]
  },
  {
   "cell_type": "markdown",
   "metadata": {},
   "source": [
    "__Matrix: Gamma Cash Strike Option x Spot Bump__"
   ]
  },
  {
   "cell_type": "code",
   "execution_count": 4,
   "metadata": {},
   "outputs": [
    {
     "data": {
      "text/html": [
       "<div>\n",
       "<style scoped>\n",
       "    .dataframe tbody tr th:only-of-type {\n",
       "        vertical-align: middle;\n",
       "    }\n",
       "\n",
       "    .dataframe tbody tr th {\n",
       "        vertical-align: top;\n",
       "    }\n",
       "\n",
       "    .dataframe thead th {\n",
       "        text-align: right;\n",
       "    }\n",
       "</style>\n",
       "<table border=\"1\" class=\"dataframe\">\n",
       "  <thead>\n",
       "    <tr style=\"text-align: right;\">\n",
       "      <th></th>\n",
       "      <th>60.00</th>\n",
       "      <th>80.00</th>\n",
       "      <th>100.00</th>\n",
       "      <th>120.00</th>\n",
       "      <th>140.00</th>\n",
       "    </tr>\n",
       "  </thead>\n",
       "  <tbody>\n",
       "    <tr>\n",
       "      <th>60.00</th>\n",
       "      <td>1.00</td>\n",
       "      <td>0.00</td>\n",
       "      <td>-0.00</td>\n",
       "      <td>0.00</td>\n",
       "      <td>0.00</td>\n",
       "    </tr>\n",
       "    <tr>\n",
       "      <th>80.00</th>\n",
       "      <td>-0.00</td>\n",
       "      <td>1.00</td>\n",
       "      <td>0.00</td>\n",
       "      <td>0.00</td>\n",
       "      <td>-0.00</td>\n",
       "    </tr>\n",
       "    <tr>\n",
       "      <th>100.00</th>\n",
       "      <td>0.00</td>\n",
       "      <td>0.00</td>\n",
       "      <td>1.00</td>\n",
       "      <td>-0.00</td>\n",
       "      <td>-0.00</td>\n",
       "    </tr>\n",
       "    <tr>\n",
       "      <th>120.00</th>\n",
       "      <td>-0.00</td>\n",
       "      <td>-0.00</td>\n",
       "      <td>0.00</td>\n",
       "      <td>1.00</td>\n",
       "      <td>0.00</td>\n",
       "    </tr>\n",
       "    <tr>\n",
       "      <th>140.00</th>\n",
       "      <td>0.00</td>\n",
       "      <td>0.00</td>\n",
       "      <td>-0.00</td>\n",
       "      <td>0.00</td>\n",
       "      <td>1.00</td>\n",
       "    </tr>\n",
       "  </tbody>\n",
       "</table>\n",
       "</div>"
      ],
      "text/plain": [
       "        60.00   80.00   100.00  120.00  140.00\n",
       "60.00     1.00    0.00   -0.00    0.00    0.00\n",
       "80.00    -0.00    1.00    0.00    0.00   -0.00\n",
       "100.00    0.00    0.00    1.00   -0.00   -0.00\n",
       "120.00   -0.00   -0.00    0.00    1.00    0.00\n",
       "140.00    0.00    0.00   -0.00    0.00    1.00"
      ]
     },
     "execution_count": 4,
     "metadata": {},
     "output_type": "execute_result"
    }
   ],
   "source": [
    "matirx_inv.dot(matrix)"
   ]
  },
  {
   "cell_type": "markdown",
   "metadata": {},
   "source": [
    "__Weights For 1mio Constant Gamma Cash__"
   ]
  },
  {
   "cell_type": "code",
   "execution_count": 5,
   "metadata": {},
   "outputs": [
    {
     "data": {
      "text/plain": [
       "60.00    601,575.00\n",
       "80.00    279,611.00\n",
       "100.00   255,323.00\n",
       "120.00    32,972.00\n",
       "140.00   252,657.00\n",
       "dtype: float64"
      ]
     },
     "execution_count": 5,
     "metadata": {},
     "output_type": "execute_result"
    }
   ],
   "source": [
    "weights"
   ]
  },
  {
   "cell_type": "code",
   "execution_count": 6,
   "metadata": {},
   "outputs": [
    {
     "data": {
      "text/plain": [
       "-1.00     999,999.91\n",
       "-0.50   1,000,000.20\n",
       "0.00    1,000,000.40\n",
       "0.50    1,000,000.39\n",
       "1.00    1,000,000.24\n",
       "dtype: float64"
      ]
     },
     "execution_count": 6,
     "metadata": {},
     "output_type": "execute_result"
    }
   ],
   "source": [
    "matrix.dot(weights)"
   ]
  },
  {
   "cell_type": "code",
   "execution_count": 7,
   "metadata": {},
   "outputs": [],
   "source": [
    "gamma_cash_package = dict()\n",
    "theta_package = dict()\n",
    "for spot_ in range(1, int(spot*(1+sigma*3))+100, 1):\n",
    "    gamma_cash_sum = 0\n",
    "    theta_sum = 0\n",
    "    for strike in strikes:\n",
    "        pricing_results = option_bs(option_type='call', S=spot_, K=strike, T=T, r=r, sigma=sigma)\n",
    "        gamma_cash = (spot_**2 * pricing_results['Gamma']) / 100\n",
    "        gamma_cash *= weights[strike]\n",
    "        gamma_cash_sum = gamma_cash_sum + gamma_cash\n",
    "        theta_sum = theta_sum + (pricing_results['Theta']*weights[strike])\n",
    "    gamma_cash_package[spot_] = gamma_cash_sum\n",
    "    theta_package[spot_] = theta_sum\n",
    "gamma_cash_package = pd.Series(gamma_cash_package)\n",
    "theta_package = pd.Series(theta_package)\n"
   ]
  },
  {
   "cell_type": "code",
   "execution_count": 8,
   "metadata": {},
   "outputs": [
    {
     "data": {
      "application/vnd.plotly.v1+json": {
       "config": {
        "plotlyServerURL": "https://plot.ly"
       },
       "data": [
        {
         "fill": "tozeroy",
         "type": "scatter",
         "x": [
          1,
          2,
          3,
          4,
          5,
          6,
          7,
          8,
          9,
          10,
          11,
          12,
          13,
          14,
          15,
          16,
          17,
          18,
          19,
          20,
          21,
          22,
          23,
          24,
          25,
          26,
          27,
          28,
          29,
          30,
          31,
          32,
          33,
          34,
          35,
          36,
          37,
          38,
          39,
          40,
          41,
          42,
          43,
          44,
          45,
          46,
          47,
          48,
          49,
          50,
          51,
          52,
          53,
          54,
          55,
          56,
          57,
          58,
          59,
          60,
          61,
          62,
          63,
          64,
          65,
          66,
          67,
          68,
          69,
          70,
          71,
          72,
          73,
          74,
          75,
          76,
          77,
          78,
          79,
          80,
          81,
          82,
          83,
          84,
          85,
          86,
          87,
          88,
          89,
          90,
          91,
          92,
          93,
          94,
          95,
          96,
          97,
          98,
          99,
          100,
          101,
          102,
          103,
          104,
          105,
          106,
          107,
          108,
          109,
          110,
          111,
          112,
          113,
          114,
          115,
          116,
          117,
          118,
          119,
          120,
          121,
          122,
          123,
          124,
          125,
          126,
          127,
          128,
          129,
          130,
          131,
          132,
          133,
          134,
          135,
          136,
          137,
          138,
          139,
          140,
          141,
          142,
          143,
          144,
          145,
          146,
          147,
          148,
          149,
          150,
          151,
          152,
          153,
          154,
          155,
          156,
          157,
          158,
          159,
          160,
          161,
          162,
          163,
          164,
          165,
          166,
          167,
          168,
          169,
          170,
          171,
          172,
          173,
          174,
          175,
          176,
          177,
          178,
          179,
          180,
          181,
          182,
          183,
          184,
          185,
          186,
          187,
          188,
          189,
          190,
          191,
          192,
          193,
          194,
          195,
          196,
          197,
          198,
          199,
          200,
          201,
          202,
          203,
          204,
          205,
          206,
          207,
          208,
          209,
          210,
          211,
          212,
          213,
          214,
          215,
          216,
          217,
          218,
          219,
          220,
          221,
          222,
          223,
          224,
          225,
          226,
          227,
          228,
          229,
          230,
          231,
          232,
          233,
          234,
          235,
          236,
          237,
          238,
          239,
          240,
          241,
          242,
          243,
          244,
          245,
          246,
          247,
          248,
          249,
          250,
          251,
          252,
          253,
          254,
          255,
          256,
          257,
          258,
          259
         ],
         "y": [
          9.15219400275819e-87,
          2.0740881065708433e-58,
          3.0578437791573596e-44,
          2.8554651631883184e-35,
          6.233770700554731e-29,
          3.739693166447998e-24,
          2.1432740607731053e-20,
          2.388219575059935e-17,
          8.035698407382594e-15,
          1.0910026873841659e-12,
          7.300480678712773e-11,
          2.7784660607655876e-09,
          6.684861050492091e-08,
          1.101409811679827e-06,
          1.3219616871931884e-05,
          0.00012134598224657288,
          0.0008856286916270799,
          0.005303679450065305,
          0.026743620503912588,
          0.11600554784393717,
          0.4406908656820097,
          1.488517111229202,
          4.528194555380851,
          12.543947704208085,
          31.945417975609985,
          75.40987343794923,
          166.19414494720203,
          344.11885897144936,
          673.1588097001699,
          1250.1897121224551,
          2214.0045023752627,
          3753.316006032716,
          6112.21192149782,
          9591.509755083684,
          14544.717922294318,
          21367.832006369674,
          30482.912995586874,
          42316.1961715949,
          57272.236120910304,
          75706.18443237265,
          97896.6323681635,
          124021.4866690543,
          154139.08725699782,
          188176.26895605426,
          225924.39443328787,
          267043.6364042126,
          311075.05707633623,
          357459.4014093966,
          405561.04525243444,
          454695.25076160615,
          504156.7850373044,
          553248.0372098465,
          601304.9919732526,
          647719.7423648518,
          691958.6071345663,
          733575.3165178845,
          772219.1090722908,
          807637.9144386015,
          839677.0647687534,
          868274.1724310277,
          893450.9325790509,
          915302.6615057908,
          933986.3749368769,
          949708.1565761943,
          962710.4792403708,
          973260.0313981263,
          981636.4821963796,
          988122.4976076443,
          992995.2065704094,
          996519.2141802934,
          998941.1724031118,
          1000485.84897559,
          1001353.5822898679,
          1001718.9732207445,
          1001730.6424169155,
          1001511.8714681864,
          1001161.9463145299,
          1000758.0290108933,
          1000357.3973701589,
          999999.9091686811,
          999710.5668859235,
          999502.0790311416,
          999377.3339481716,
          999331.7208178807,
          999355.249869944,
          999434.4392467685,
          999553.9493718366,
          999697.9570286877,
          999851.2707149404,
          1000000.1963227199,
          1000133.16797794,
          1000241.163133325,
          1000317.9239485472,
          1000360.0087970657,
          1000366.6985948959,
          1000339.7827188863,
          1000283.2487218063,
          1000202.8989920187,
          1000105.9160630812,
          1000000.3965536804,
          999894.8717967456,
          999797.831171249,
          999717.2620425471,
          999660.2180986278,
          999632.4257830986,
          999637.9365065304,
          999678.830394552,
          999754.9755268586,
          999863.844953934,
          1000000.3922610465,
          1000156.9850911966,
          1000323.3948456787,
          1000486.8397549335,
          1000632.0776526483,
          1000741.5440891178,
          1000795.5308799692,
          1000772.3997956796,
          1000648.8258464163,
          1000400.0644947926,
          1000000.2371243092,
          999422.6291909079,
          998639.9956762174,
          997624.8687304253,
          996349.8627272123,
          994787.9723399229,
          992912.8596748227,
          990699.126952237,
          988122.5716986638,
          985160.4218927034,
          981791.5489858179,
          977996.6571876209,
          973758.4478577022,
          969061.7582760921,
          963893.6744676062,
          958243.6181276725,
          952103.4080360457,
          945467.2966480798,
          938331.982819867,
          930696.6018531795,
          922562.6942389947,
          913934.1546353411,
          904817.1627375666,
          895220.0977886133,
          885153.4385355827,
          874629.6504690554,
          863663.0621857683,
          852269.7326960126,
          840467.3114570512,
          828274.8928557456,
          815712.8667899768,
          802802.7669119547,
          789567.1179995666,
          776029.283816861,
          762213.3167137594,
          748143.8101001636,
          733845.7548125982,
          719344.4002740941,
          704665.1212315798,
          689833.2907409947,
          674874.1599596819,
          659812.7451993943,
          644673.722592154,
          629481.3306259344,
          614259.280718101,
          599030.675912158,
          583817.9377077749,
          568642.7409654629,
          553525.9567656339,
          538487.6030470438,
          523546.8028016612,
          508721.7495615806,
          494029.67987852293,
          479486.8524673265,
          465108.53366144205,
          450908.98881029,
          436901.47923516924,
          423098.2643517539,
          409510.6085627332,
          396148.79252340866,
          383022.12838571134,
          370138.97863173287,
          357506.7781161169,
          345132.058947206,
          333020.4778492905,
          321176.8456624139,
          309605.15865160205,
          298308.6313138537,
          287289.73038849223,
          276550.20979430916,
          266091.146235104,
          255912.97523355458,
          246015.5273716917,
          236398.06453439765,
          227059.315970221,
          217997.51400125946,
          209210.4292308048,
          200695.40511381102,
          192449.39177094455,
          184468.9789419692,
          176750.427988463,
          169289.70286931595,
          162082.50002511818,
          155124.27711938816,
          148410.2805956203,
          141935.57201934408,
          135695.05318380136,
          129683.48996648216,
          123895.53493161811,
          118325.74868086625,
          112968.6199608245,
          107818.58454175454,
          102870.04288697174,
          98117.37663682466,
          93554.96393507614,
          89177.19362883453,
          84978.47837601017,
          80953.26669662642,
          77096.05400622416,
          73401.39267110225,
          69863.9011262651,
          66478.27209774007,
          63239.27997140091,
          60141.78735063603,
          57180.75084513896,
          54351.226132825774,
          51648.37233639627,
          49067.45575540901,
          46603.852993923734,
          44253.05352283161,
          42010.66171493634,
          39872.39838970471,
          37834.10190338107,
          35891.728818874384,
          34041.35418849041,
          32279.17148121643,
          30601.49218486929,
          29004.745112014516,
          27485.475437152785,
          26040.343491266856,
          24666.123338427606,
          23359.70115778347,
          22118.07345290864,
          20938.34510915984,
          19817.727318407928,
          18753.53538925389,
          17743.186459628352,
          16784.19712750206,
          15874.181014306856,
          15010.846274583493,
          14191.993064336124,
          13415.510979581612,
          12679.376475637602,
          11981.65027679557,
          11320.474785172313,
          10694.071496728318,
          10100.738431677994,
          9538.847585801132,
          9006.842408488428,
          8503.235312721492
         ]
        }
       ],
       "layout": {
        "autosize": true,
        "template": {
         "data": {
          "bar": [
           {
            "error_x": {
             "color": "#2a3f5f"
            },
            "error_y": {
             "color": "#2a3f5f"
            },
            "marker": {
             "line": {
              "color": "#E5ECF6",
              "width": 0.5
             },
             "pattern": {
              "fillmode": "overlay",
              "size": 10,
              "solidity": 0.2
             }
            },
            "type": "bar"
           }
          ],
          "barpolar": [
           {
            "marker": {
             "line": {
              "color": "#E5ECF6",
              "width": 0.5
             },
             "pattern": {
              "fillmode": "overlay",
              "size": 10,
              "solidity": 0.2
             }
            },
            "type": "barpolar"
           }
          ],
          "carpet": [
           {
            "aaxis": {
             "endlinecolor": "#2a3f5f",
             "gridcolor": "white",
             "linecolor": "white",
             "minorgridcolor": "white",
             "startlinecolor": "#2a3f5f"
            },
            "baxis": {
             "endlinecolor": "#2a3f5f",
             "gridcolor": "white",
             "linecolor": "white",
             "minorgridcolor": "white",
             "startlinecolor": "#2a3f5f"
            },
            "type": "carpet"
           }
          ],
          "choropleth": [
           {
            "colorbar": {
             "outlinewidth": 0,
             "ticks": ""
            },
            "type": "choropleth"
           }
          ],
          "contour": [
           {
            "colorbar": {
             "outlinewidth": 0,
             "ticks": ""
            },
            "colorscale": [
             [
              0,
              "#0d0887"
             ],
             [
              0.1111111111111111,
              "#46039f"
             ],
             [
              0.2222222222222222,
              "#7201a8"
             ],
             [
              0.3333333333333333,
              "#9c179e"
             ],
             [
              0.4444444444444444,
              "#bd3786"
             ],
             [
              0.5555555555555556,
              "#d8576b"
             ],
             [
              0.6666666666666666,
              "#ed7953"
             ],
             [
              0.7777777777777778,
              "#fb9f3a"
             ],
             [
              0.8888888888888888,
              "#fdca26"
             ],
             [
              1,
              "#f0f921"
             ]
            ],
            "type": "contour"
           }
          ],
          "contourcarpet": [
           {
            "colorbar": {
             "outlinewidth": 0,
             "ticks": ""
            },
            "type": "contourcarpet"
           }
          ],
          "heatmap": [
           {
            "colorbar": {
             "outlinewidth": 0,
             "ticks": ""
            },
            "colorscale": [
             [
              0,
              "#0d0887"
             ],
             [
              0.1111111111111111,
              "#46039f"
             ],
             [
              0.2222222222222222,
              "#7201a8"
             ],
             [
              0.3333333333333333,
              "#9c179e"
             ],
             [
              0.4444444444444444,
              "#bd3786"
             ],
             [
              0.5555555555555556,
              "#d8576b"
             ],
             [
              0.6666666666666666,
              "#ed7953"
             ],
             [
              0.7777777777777778,
              "#fb9f3a"
             ],
             [
              0.8888888888888888,
              "#fdca26"
             ],
             [
              1,
              "#f0f921"
             ]
            ],
            "type": "heatmap"
           }
          ],
          "heatmapgl": [
           {
            "colorbar": {
             "outlinewidth": 0,
             "ticks": ""
            },
            "colorscale": [
             [
              0,
              "#0d0887"
             ],
             [
              0.1111111111111111,
              "#46039f"
             ],
             [
              0.2222222222222222,
              "#7201a8"
             ],
             [
              0.3333333333333333,
              "#9c179e"
             ],
             [
              0.4444444444444444,
              "#bd3786"
             ],
             [
              0.5555555555555556,
              "#d8576b"
             ],
             [
              0.6666666666666666,
              "#ed7953"
             ],
             [
              0.7777777777777778,
              "#fb9f3a"
             ],
             [
              0.8888888888888888,
              "#fdca26"
             ],
             [
              1,
              "#f0f921"
             ]
            ],
            "type": "heatmapgl"
           }
          ],
          "histogram": [
           {
            "marker": {
             "pattern": {
              "fillmode": "overlay",
              "size": 10,
              "solidity": 0.2
             }
            },
            "type": "histogram"
           }
          ],
          "histogram2d": [
           {
            "colorbar": {
             "outlinewidth": 0,
             "ticks": ""
            },
            "colorscale": [
             [
              0,
              "#0d0887"
             ],
             [
              0.1111111111111111,
              "#46039f"
             ],
             [
              0.2222222222222222,
              "#7201a8"
             ],
             [
              0.3333333333333333,
              "#9c179e"
             ],
             [
              0.4444444444444444,
              "#bd3786"
             ],
             [
              0.5555555555555556,
              "#d8576b"
             ],
             [
              0.6666666666666666,
              "#ed7953"
             ],
             [
              0.7777777777777778,
              "#fb9f3a"
             ],
             [
              0.8888888888888888,
              "#fdca26"
             ],
             [
              1,
              "#f0f921"
             ]
            ],
            "type": "histogram2d"
           }
          ],
          "histogram2dcontour": [
           {
            "colorbar": {
             "outlinewidth": 0,
             "ticks": ""
            },
            "colorscale": [
             [
              0,
              "#0d0887"
             ],
             [
              0.1111111111111111,
              "#46039f"
             ],
             [
              0.2222222222222222,
              "#7201a8"
             ],
             [
              0.3333333333333333,
              "#9c179e"
             ],
             [
              0.4444444444444444,
              "#bd3786"
             ],
             [
              0.5555555555555556,
              "#d8576b"
             ],
             [
              0.6666666666666666,
              "#ed7953"
             ],
             [
              0.7777777777777778,
              "#fb9f3a"
             ],
             [
              0.8888888888888888,
              "#fdca26"
             ],
             [
              1,
              "#f0f921"
             ]
            ],
            "type": "histogram2dcontour"
           }
          ],
          "mesh3d": [
           {
            "colorbar": {
             "outlinewidth": 0,
             "ticks": ""
            },
            "type": "mesh3d"
           }
          ],
          "parcoords": [
           {
            "line": {
             "colorbar": {
              "outlinewidth": 0,
              "ticks": ""
             }
            },
            "type": "parcoords"
           }
          ],
          "pie": [
           {
            "automargin": true,
            "type": "pie"
           }
          ],
          "scatter": [
           {
            "fillpattern": {
             "fillmode": "overlay",
             "size": 10,
             "solidity": 0.2
            },
            "type": "scatter"
           }
          ],
          "scatter3d": [
           {
            "line": {
             "colorbar": {
              "outlinewidth": 0,
              "ticks": ""
             }
            },
            "marker": {
             "colorbar": {
              "outlinewidth": 0,
              "ticks": ""
             }
            },
            "type": "scatter3d"
           }
          ],
          "scattercarpet": [
           {
            "marker": {
             "colorbar": {
              "outlinewidth": 0,
              "ticks": ""
             }
            },
            "type": "scattercarpet"
           }
          ],
          "scattergeo": [
           {
            "marker": {
             "colorbar": {
              "outlinewidth": 0,
              "ticks": ""
             }
            },
            "type": "scattergeo"
           }
          ],
          "scattergl": [
           {
            "marker": {
             "colorbar": {
              "outlinewidth": 0,
              "ticks": ""
             }
            },
            "type": "scattergl"
           }
          ],
          "scattermapbox": [
           {
            "marker": {
             "colorbar": {
              "outlinewidth": 0,
              "ticks": ""
             }
            },
            "type": "scattermapbox"
           }
          ],
          "scatterpolar": [
           {
            "marker": {
             "colorbar": {
              "outlinewidth": 0,
              "ticks": ""
             }
            },
            "type": "scatterpolar"
           }
          ],
          "scatterpolargl": [
           {
            "marker": {
             "colorbar": {
              "outlinewidth": 0,
              "ticks": ""
             }
            },
            "type": "scatterpolargl"
           }
          ],
          "scatterternary": [
           {
            "marker": {
             "colorbar": {
              "outlinewidth": 0,
              "ticks": ""
             }
            },
            "type": "scatterternary"
           }
          ],
          "surface": [
           {
            "colorbar": {
             "outlinewidth": 0,
             "ticks": ""
            },
            "colorscale": [
             [
              0,
              "#0d0887"
             ],
             [
              0.1111111111111111,
              "#46039f"
             ],
             [
              0.2222222222222222,
              "#7201a8"
             ],
             [
              0.3333333333333333,
              "#9c179e"
             ],
             [
              0.4444444444444444,
              "#bd3786"
             ],
             [
              0.5555555555555556,
              "#d8576b"
             ],
             [
              0.6666666666666666,
              "#ed7953"
             ],
             [
              0.7777777777777778,
              "#fb9f3a"
             ],
             [
              0.8888888888888888,
              "#fdca26"
             ],
             [
              1,
              "#f0f921"
             ]
            ],
            "type": "surface"
           }
          ],
          "table": [
           {
            "cells": {
             "fill": {
              "color": "#EBF0F8"
             },
             "line": {
              "color": "white"
             }
            },
            "header": {
             "fill": {
              "color": "#C8D4E3"
             },
             "line": {
              "color": "white"
             }
            },
            "type": "table"
           }
          ]
         },
         "layout": {
          "annotationdefaults": {
           "arrowcolor": "#2a3f5f",
           "arrowhead": 0,
           "arrowwidth": 1
          },
          "autotypenumbers": "strict",
          "coloraxis": {
           "colorbar": {
            "outlinewidth": 0,
            "ticks": ""
           }
          },
          "colorscale": {
           "diverging": [
            [
             0,
             "#8e0152"
            ],
            [
             0.1,
             "#c51b7d"
            ],
            [
             0.2,
             "#de77ae"
            ],
            [
             0.3,
             "#f1b6da"
            ],
            [
             0.4,
             "#fde0ef"
            ],
            [
             0.5,
             "#f7f7f7"
            ],
            [
             0.6,
             "#e6f5d0"
            ],
            [
             0.7,
             "#b8e186"
            ],
            [
             0.8,
             "#7fbc41"
            ],
            [
             0.9,
             "#4d9221"
            ],
            [
             1,
             "#276419"
            ]
           ],
           "sequential": [
            [
             0,
             "#0d0887"
            ],
            [
             0.1111111111111111,
             "#46039f"
            ],
            [
             0.2222222222222222,
             "#7201a8"
            ],
            [
             0.3333333333333333,
             "#9c179e"
            ],
            [
             0.4444444444444444,
             "#bd3786"
            ],
            [
             0.5555555555555556,
             "#d8576b"
            ],
            [
             0.6666666666666666,
             "#ed7953"
            ],
            [
             0.7777777777777778,
             "#fb9f3a"
            ],
            [
             0.8888888888888888,
             "#fdca26"
            ],
            [
             1,
             "#f0f921"
            ]
           ],
           "sequentialminus": [
            [
             0,
             "#0d0887"
            ],
            [
             0.1111111111111111,
             "#46039f"
            ],
            [
             0.2222222222222222,
             "#7201a8"
            ],
            [
             0.3333333333333333,
             "#9c179e"
            ],
            [
             0.4444444444444444,
             "#bd3786"
            ],
            [
             0.5555555555555556,
             "#d8576b"
            ],
            [
             0.6666666666666666,
             "#ed7953"
            ],
            [
             0.7777777777777778,
             "#fb9f3a"
            ],
            [
             0.8888888888888888,
             "#fdca26"
            ],
            [
             1,
             "#f0f921"
            ]
           ]
          },
          "colorway": [
           "#636efa",
           "#EF553B",
           "#00cc96",
           "#ab63fa",
           "#FFA15A",
           "#19d3f3",
           "#FF6692",
           "#B6E880",
           "#FF97FF",
           "#FECB52"
          ],
          "font": {
           "color": "#2a3f5f"
          },
          "geo": {
           "bgcolor": "white",
           "lakecolor": "white",
           "landcolor": "#E5ECF6",
           "showlakes": true,
           "showland": true,
           "subunitcolor": "white"
          },
          "hoverlabel": {
           "align": "left"
          },
          "hovermode": "closest",
          "mapbox": {
           "style": "light"
          },
          "paper_bgcolor": "white",
          "plot_bgcolor": "#E5ECF6",
          "polar": {
           "angularaxis": {
            "gridcolor": "white",
            "linecolor": "white",
            "ticks": ""
           },
           "bgcolor": "#E5ECF6",
           "radialaxis": {
            "gridcolor": "white",
            "linecolor": "white",
            "ticks": ""
           }
          },
          "scene": {
           "xaxis": {
            "backgroundcolor": "#E5ECF6",
            "gridcolor": "white",
            "gridwidth": 2,
            "linecolor": "white",
            "showbackground": true,
            "ticks": "",
            "zerolinecolor": "white"
           },
           "yaxis": {
            "backgroundcolor": "#E5ECF6",
            "gridcolor": "white",
            "gridwidth": 2,
            "linecolor": "white",
            "showbackground": true,
            "ticks": "",
            "zerolinecolor": "white"
           },
           "zaxis": {
            "backgroundcolor": "#E5ECF6",
            "gridcolor": "white",
            "gridwidth": 2,
            "linecolor": "white",
            "showbackground": true,
            "ticks": "",
            "zerolinecolor": "white"
           }
          },
          "shapedefaults": {
           "line": {
            "color": "#2a3f5f"
           }
          },
          "ternary": {
           "aaxis": {
            "gridcolor": "white",
            "linecolor": "white",
            "ticks": ""
           },
           "baxis": {
            "gridcolor": "white",
            "linecolor": "white",
            "ticks": ""
           },
           "bgcolor": "#E5ECF6",
           "caxis": {
            "gridcolor": "white",
            "linecolor": "white",
            "ticks": ""
           }
          },
          "title": {
           "x": 0.05
          },
          "xaxis": {
           "automargin": true,
           "gridcolor": "white",
           "linecolor": "white",
           "ticks": "",
           "title": {
            "standoff": 15
           },
           "zerolinecolor": "white",
           "zerolinewidth": 2
          },
          "yaxis": {
           "automargin": true,
           "gridcolor": "white",
           "linecolor": "white",
           "ticks": "",
           "title": {
            "standoff": 15
           },
           "zerolinecolor": "white",
           "zerolinewidth": 2
          }
         }
        },
        "xaxis": {
         "autorange": true,
         "range": [
          1,
          259
         ],
         "type": "linear"
        },
        "yaxis": {
         "autorange": true,
         "range": [
          0,
          1054453.3078072795
         ],
         "type": "linear"
        }
       }
      },
      "image/png": "[encoded data removed]"
     },
     "metadata": {},
     "output_type": "display_data"
    }
   ],
   "source": [
    "fig = go.Figure()\n",
    "fig.add_trace(go.Scatter(x=gamma_cash_package.index, y=gamma_cash_package.values, fill='tozeroy'))"
   ]
  },
  {
   "cell_type": "code",
   "execution_count": null,
   "metadata": {},
   "outputs": [],
   "source": []
  }
 ],
 "metadata": {
  "kernelspec": {
   "display_name": "Python 3 (ipykernel)",
   "language": "python",
   "name": "python3"
  },
  "language_info": {
   "codemirror_mode": {
    "name": "ipython",
    "version": 3
   },
   "file_extension": ".py",
   "mimetype": "text/x-python",
   "name": "python",
   "nbconvert_exporter": "python",
   "pygments_lexer": "ipython3",
   "version": "3.11.5"
  }
 },
 "nbformat": 4,
 "nbformat_minor": 4
}
