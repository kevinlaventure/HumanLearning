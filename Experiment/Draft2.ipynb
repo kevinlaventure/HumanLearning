{
 "cells": [
  {
   "cell_type": "code",
   "execution_count": 6,
   "id": "bb79b597-06c9-4ef9-a7c3-27ab0ed5b01c",
   "metadata": {},
   "outputs": [],
   "source": [
    "import numpy as np\n",
    "import pandas as pd\n",
    "import plotly.express as px\n",
    "from module.pricing import MonteCarlo"
   ]
  },
  {
   "cell_type": "code",
   "execution_count": 7,
   "id": "f8ef6bd7-de20-47c7-9f06-683a5b8b03b6",
   "metadata": {
    "tags": []
   },
   "outputs": [],
   "source": [
    "mc = MonteCarlo(num_path=5, num_simulation=50_000_000, num_path_per_year=1638)"
   ]
  },
  {
   "cell_type": "code",
   "execution_count": null,
   "id": "da954f31-117a-4470-8ae7-095850f93a2b",
   "metadata": {
    "tags": []
   },
   "outputs": [],
   "source": [
    "eq, fx = mc.bivariate_gbm(\n",
    "    st1=4700, iv1=0.13, q1=0, b1=0, \n",
    "    st2=1.10, iv2=0.03, q2=0, b2=0, \n",
    "    r=0, rho=0.9)\n",
    "eq = pd.DataFrame(eq)\n",
    "fx = pd.DataFrame(fx)\n",
    "strategy_pnl = (fx.iloc[-1] - fx.iloc[0]) * eq.iloc[-1]\n",
    "\n",
    "bump = 0.0001\n",
    "dpdfx = 4700 * (1.10+bump/1.10 -1)/bump\n",
    "hedge_pnl = dpdfx * (fx.iloc[-1] - fx.iloc[0])"
   ]
  },
  {
   "cell_type": "code",
   "execution_count": null,
   "id": "d9c587a5-576e-45fd-8476-7ceed17ec104",
   "metadata": {
    "tags": []
   },
   "outputs": [],
   "source": [
    "bleed_n = (hedge_pnl-strategy_pnl)/eq.iloc[-1]"
   ]
  },
  {
   "cell_type": "code",
   "execution_count": null,
   "id": "e3616d67-df5b-4bb6-b062-76095c03df6c",
   "metadata": {
    "tags": []
   },
   "outputs": [],
   "source": [
    "bleed_n.mean()"
   ]
  },
  {
   "cell_type": "code",
   "execution_count": null,
   "id": "612532da-d380-4db3-b107-9fd02666a430",
   "metadata": {
    "tags": []
   },
   "outputs": [],
   "source": [
    "bleed_n.describe().apply(lambda x: f\"{x:.4F}\")"
   ]
  },
  {
   "cell_type": "code",
   "execution_count": null,
   "id": "3b567541-5ab7-4b30-8c78-f68e49820104",
   "metadata": {},
   "outputs": [],
   "source": []
  }
 ],
 "metadata": {
  "kernelspec": {
   "display_name": "Python 3 (ipykernel)",
   "language": "python",
   "name": "python3"
  },
  "language_info": {
   "codemirror_mode": {
    "name": "ipython",
    "version": 3
   },
   "file_extension": ".py",
   "mimetype": "text/x-python",
   "name": "python",
   "nbconvert_exporter": "python",
   "pygments_lexer": "ipython3",
   "version": "3.11.5"
  }
 },
 "nbformat": 4,
 "nbformat_minor": 5
}
