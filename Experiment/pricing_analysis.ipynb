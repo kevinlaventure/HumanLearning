{
 "cells": [
  {
   "cell_type": "markdown",
   "metadata": {},
   "source": [
    "<br>\n",
    "\n",
    "<p style=\"text-align:center; font-weight:bold; font-size:17px;\">Exotic Pricing: Montecarlo & Numerical Integration</p>\n",
    "\n",
    "<p style=\"text-align:center; font-size:14px;\">In this notebook, we want to price a down, up dual digital option using montecarlo and numerical integration.</p<"
   ]
  },
  {
   "cell_type": "code",
   "execution_count": 2,
   "metadata": {},
   "outputs": [],
   "source": [
    "#-------\n",
    "# IMPORT PUBLIC LIBRAIRIES\n",
    "#-------\n",
    "import numpy as np\n",
    "import pandas as pd\n",
    "import plotly.express as px\n",
    "\n",
    "#-------\n",
    "# IMPORT PRIVATE LIBRAIRIES\n",
    "#-------\n",
    "from module.pricing import dual_digital\n",
    "from module.simulation import bivariate_montecarlo"
   ]
  },
  {
   "cell_type": "code",
   "execution_count": 7,
   "metadata": {},
   "outputs": [],
   "source": [
    "#-------\n",
    "# PRICING PARAMETER\n",
    "#-------\n",
    "S0_1 = 1001.0\n",
    "S0_2 = 1000.0\n",
    "K1 = 1000\n",
    "K2 = 1000\n",
    "sigma_1 = 0.2\n",
    "sigma_2 = 0.2\n",
    "rho = 0.5\n",
    "r = 0.0"
   ]
  },
  {
   "cell_type": "markdown",
   "metadata": {},
   "source": [
    "<p style=\"text-align:center; font-weight:bold; font-size:15px;\">Montecarlo Method</p>\n"
   ]
  },
  {
   "cell_type": "code",
   "execution_count": 8,
   "metadata": {},
   "outputs": [
    {
     "data": {
      "text/plain": [
       "(0.16381, (0.5051, 0.48969))"
      ]
     },
     "execution_count": 8,
     "metadata": {},
     "output_type": "execute_result"
    }
   ],
   "source": [
    "#-------\n",
    "# MONTECARLO PARAMETER\n",
    "#-------\n",
    "N = 20\n",
    "M = 100000 \n",
    "\n",
    "#-------\n",
    "# MONTECARLO SIMULATION & PRICING\n",
    "#-------\n",
    "S1, S2 = bivariate_montecarlo(S0_1, S0_2, sigma_1, sigma_2, rho, r, N, M)\n",
    "df = pd.DataFrame([pd.DataFrame(S1).iloc[-1], pd.DataFrame(S2).iloc[-1]]).transpose()\n",
    "df.columns = ['S1', 'S2']\n",
    "df['d1'] = (df['S1'] < K1).astype(int)\n",
    "df['d2'] = (df['S2'] > K2).astype(int)\n",
    "df['d1 & d2'] = ((df['d1'] + df['d2']) == 2).astype(int)\n",
    "indiv = (df['d1'].sum() / df.shape[0], df['d2'].sum() / df.shape[0])\n",
    "proba = df['d1 & d2'].sum() / df.shape[0]\n",
    "proba, indiv"
   ]
  },
  {
   "cell_type": "markdown",
   "metadata": {},
   "source": [
    "<p style=\"text-align:center; font-weight:bold; font-size:15px;\">Numerical Integration Method</p>\n"
   ]
  },
  {
   "cell_type": "code",
   "execution_count": 21,
   "metadata": {},
   "outputs": [
    {
     "data": {
      "text/plain": [
       "0.16659375563912207"
      ]
     },
     "execution_count": 21,
     "metadata": {},
     "output_type": "execute_result"
    }
   ],
   "source": [
    "d1 = 'down'\n",
    "d2 = 'up'\n",
    "maturity = N\n",
    "dual_digital(S0_1, S0_2, K1, K2, sigma_1, sigma_2, d1, d2, rho, r, maturity, periods_per_year=252)"
   ]
  }
 ],
 "metadata": {
  "kernelspec": {
   "display_name": "Python 3 (ipykernel)",
   "language": "python",
   "name": "python3"
  },
  "language_info": {
   "codemirror_mode": {
    "name": "ipython",
    "version": 3
   },
   "file_extension": ".py",
   "mimetype": "text/x-python",
   "name": "python",
   "nbconvert_exporter": "python",
   "pygments_lexer": "ipython3",
   "version": "3.11.5"
  }
 },
 "nbformat": 4,
 "nbformat_minor": 4
}
