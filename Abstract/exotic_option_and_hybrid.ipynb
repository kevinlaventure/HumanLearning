{
 "cells": [
  {
   "cell_type": "markdown",
   "metadata": {},
   "source": [
    "<p style=\"text-align:center; font-weight:bold; font-size:22px;\">Conventional Options, Forwards and Greeks</p>"
   ]
  },
  {
   "cell_type": "markdown",
   "metadata": {},
   "source": [
    "<p style=\"text-align:center; font-weight:bold; font-size:14px;\">\n",
    "Forward\n",
    "</p>\n",
    "\n",
    "$$ F = \\text{Price of the underlying + Cost of Carry}$$\n",
    "$$\\begin{aligned} F_t & =S_t \\times e^{\\{(r - d) (T-t)\\}} \\end{aligned}$$"
   ]
  },
  {
   "cell_type": "markdown",
   "metadata": {},
   "source": [
    "<p style=\"text-align:center; font-weight:bold; font-size:14px;\">\n",
    "Black–Scholes formula including dividend\n",
    "</p>\n",
    "\n",
    "$$\n",
    "c_t = S_t e^{-d(T-t)} N\\left(d_1\\right)-K e^{-r(T-t)} N\\left(d_2\\right)\n",
    "$$\n",
    "\n",
    "$$\n",
    "p_t = K e^{-r(T-t)} N\\left(-d_2\\right)-S_t e^{-d(T-t)} N\\left(-d_1\\right)\n",
    "$$\n",
    "\n",
    "$$\n",
    "\\begin{aligned}\n",
    "d_1 & =\\frac{\\ln \\left(\\frac{S_t e^{-d(T-t)}}{K}\\right)+\\left(r+\\frac{1}{2} \\sigma^2\\right)(T-t)}{\\sigma \\sqrt{T-t}} \\\\\n",
    "d_2 & =d_1-\\sigma \\sqrt{T-t}\n",
    "\\end{aligned}\n",
    "$$"
   ]
  },
  {
   "cell_type": "markdown",
   "metadata": {},
   "source": [
    "<p style=\"text-align:center; font-weight:bold; font-size:14px;\">\n",
    "Black–Scholes formula under forward measure\n",
    "</p>\n",
    "\n",
    "$$\n",
    "c_t = F_te^{-r(T-t)} N\\left(d_1\\right) - K e^{-r(T-t)} N\\left(d_2\\right)\n",
    "$$\n",
    "\n",
    "$$\n",
    "p_t = K e^{-r(T-t)} N\\left(-d_2\\right) - F_te^{-r(T-t)} N\\left(-d_1\\right)\n",
    "$$\n",
    "\n",
    "$$\n",
    "\\begin{aligned}\n",
    "d_1 & =\\frac{\\ln \\left(\\frac{F_te^{-r(T-t)}}{K}\\right)+\\left(r+\\frac{1}{2} \\sigma^2\\right)(T-t)}{\\sigma \\sqrt{T-t}} \\\\\n",
    "d_2 & =d_1-\\sigma \\sqrt{T-t}\n",
    "\\end{aligned}\n",
    "$$"
   ]
  },
  {
   "cell_type": "markdown",
   "metadata": {},
   "source": [
    "<p style=\"text-align:center; font-weight:bold; font-size:14px;\">\n",
    "Put-Call Parity\n",
    "</p>\n",
    "\n",
    "$$c_t-p_t=S_t e^{-d(T-t)}-K e^{-r(T-t)}$$"
   ]
  },
  {
   "cell_type": "markdown",
   "metadata": {},
   "source": [
    "<p style=\"text-align:center; font-weight:bold; font-size:14px;\">\n",
    "Delta\n",
    "</p>\n",
    "\n",
    "$$\\begin{aligned} \\delta_{\\text {call, European }} & =\\frac{\\partial c_t}{\\partial S_t}=N\\left(d_1\\right)>0 \\\\ \\delta_{\\text {put, European }} \n",
    "& =\\frac{\\partial p_t}{\\partial S_t}=-N\\left(-d_1\\right)<0\\end{aligned}$$"
   ]
  },
  {
   "cell_type": "markdown",
   "metadata": {},
   "source": [
    "<p style=\"text-align:center; font-weight:bold; font-size:14px;\">\n",
    "Gamma\n",
    "</p>\n",
    "\n",
    "$$\n",
    "\\begin{aligned}\n",
    "& \\gamma_{\\text {call, European }}=\\frac{\\partial \\delta}{\\partial S_t}=\\frac{\\partial^2 c_t}{\\partial\\left(S_t\\right)^2}=\\frac{N^{\\prime}\\left(d_1\\right)}{S_t \\sigma \\sqrt{T-t}}>0, \\\\\n",
    "& \\gamma_{\\text {put, European }}=\\frac{\\partial \\delta}{\\partial S_t}=\\frac{\\partial^2 p_t}{\\partial\\left(S_t\\right)^2}=\\frac{N^{\\prime}\\left(d_1\\right)}{S_t \\sigma \\sqrt{T-t}}>0 .\n",
    "\\end{aligned}\n",
    "$$\n",
    "\n",
    "$$\n",
    "N^{\\prime}(x)=\\frac{1}{\\sqrt{2 \\pi}} e^{-\\frac{x^2}{2}} .\n",
    "$$"
   ]
  },
  {
   "cell_type": "markdown",
   "metadata": {},
   "source": [
    "<p style=\"text-align:center; font-weight:bold; font-size:14px;\">\n",
    "Vega\n",
    "</p>\n",
    "\n",
    "$$\\begin{gathered}v_{\\text {call, European }}=\\frac{\\partial c_t}{\\partial \\sigma}=\\frac{1}{\\sqrt{2 \\pi}} e^{-\\frac{d_1^2}{2}} S_t \\sqrt{T-t}>0, \\\\ v_{\\text {put, European }}=\\frac{\\partial p_t}{\\partial \\sigma}=\\frac{1}{\\sqrt{2 \\pi}} e^{-\\frac{d_1^2}{2}} S_t \\sqrt{T-t}>0 .\\end{gathered}$$"
   ]
  },
  {
   "cell_type": "markdown",
   "metadata": {},
   "source": [
    "<p style=\"text-align:center; font-weight:bold; font-size:14px;\">\n",
    "Theta-Gamma Relation\n",
    "</p>\n",
    "\n",
    "$$\\frac{1}{2} \\gamma \\sigma^2 S_t^2+\\theta=0$$"
   ]
  }
 ],
 "metadata": {
  "language_info": {
   "name": "python"
  }
 },
 "nbformat": 4,
 "nbformat_minor": 2
}
