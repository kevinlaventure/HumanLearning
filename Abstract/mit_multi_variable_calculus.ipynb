{
 "cells": [
  {
   "cell_type": "markdown",
   "metadata": {},
   "source": [
    "<p style=\"text-align:center; font-weight:bold; font-size:15px;\">Vectors</p>\n",
    "\n",
    "$$\\vec{A} = \\left\\langle a_{1}, a_{2}, a_{3}\\right\\rangle=a_{1} \\hat{\\boldsymbol{\\imath}}+a_{2} \\hat{\\boldsymbol{\\jmath}}+a_{3} \\hat{\\boldsymbol{k}}$$\n",
    "$$|\\vec{A}|=\\sqrt{ } \\overline{a_{1}^{2}+a_{2}^{2}+a_{3}^{2}}$$"
   ]
  },
  {
   "cell_type": "markdown",
   "metadata": {},
   "source": [
    "***\n",
    "<p style=\"text-align:center; font-weight:bold; font-size:15px;\">Dot Products</p>\n",
    "\n",
    "\n",
    "$$\\vec{A} \\cdot \\vec{B}=a_{1} b_{1}+a_{2} b_{2}+a_{3} b_{3}$$\n",
    "$$\\vec{A} \\cdot \\vec{B}=|\\vec{A}||\\vec{B}| \\cos \\theta$$\n"
   ]
  },
  {
   "cell_type": "markdown",
   "metadata": {},
   "source": [
    "***\n",
    "<p style=\"text-align:center; font-weight:bold; font-size:15px;\">Determinants</p>\n",
    "\n",
    "$$\\operatorname{det}(\\vec{A}, \\vec{B})=\\left|\\begin{array}{ll}a_{1} & a_{2} \\\\ b_{1} & b_{2}\\end{array}\\right|=a_{1} b_{2}-a_{2} b_{1} = \\pm \\text{ area of parallelogram}$$\n",
    "$$\\operatorname{det}(\\vec{A}, \\vec{B}, \\vec{C})=\\left|\\begin{array}{lll}a_{1} & a_{2} & a_{3} \\\\ b_{1} & b_{2} & b_{3} \\\\ c_{1} & c_{2} & c_{3}\\end{array}\\right|=a_{1}\\left|\\begin{array}{cc}b_{2} & b_{3} \\\\ c_{2} & c_{3}\\end{array}\\right|-a_{2}\\left|\\begin{array}{cc}b_{1} & b_{3} \\\\ c_{1} & c_{3}\\end{array}\\right|+a_{3}\\left|\\begin{array}{cc}b_{1} & b_{2} \\\\ c_{1} & c_{2}\\end{array}\\right| = \\pm \\text{volume of parallelepiped} $$"
   ]
  },
  {
   "cell_type": "markdown",
   "metadata": {},
   "source": [
    "***\n",
    "<p style=\"text-align:center; font-weight:bold; font-size:15px;\">Cross-Product</p>\n",
    "\n",
    "$$\\vec{A} \\times \\vec{B}=\\left|\\begin{array}{ccc}\\hat{\\imath} & \\hat{\\jmath} & \\hat{\\boldsymbol{k}} \\\\ a_{1} & a_{2} & a_{3} \\\\ b_{1} & b_{2} & b_{3}\\end{array}\\right|=\\hat{\\boldsymbol{\\imath}}\\left|\\begin{array}{cc}a_{2} & a_{3} \\\\ b_{2} & b_{3}\\end{array}\\right|-\\hat{\\boldsymbol{\\jmath}}\\left|\\begin{array}{cc}a_{1} & a_{3} \\\\ b_{1} & b_{3}\\end{array}\\right|+\\hat{\\boldsymbol{k}}\\left|\\begin{array}{cc}a_{1} & a_{2} \\\\ b_{1} & b_{2}\\end{array}\\right|$$\n"
   ]
  },
  {
   "cell_type": "markdown",
   "metadata": {},
   "source": [
    "***\n",
    "<p style=\"text-align:center; font-weight:bold; font-size:15px;\">Matrix</p>\n",
    "\n",
    "$$ \\text{Square systems} $$\n",
    "\n",
    "$$ u_{1} = 2_{x_{1}} + 3_{x_{2}}  + 3_{x_{3}} $$\n",
    "$$ u_{2} = 2_{x_{1}} + 4_{x_{2}}  + 5_{x_{3}} $$\n",
    "$$ u_{3} = 1_{x_{1}} + 1_{x_{2}}  + 2_{x_{3}} $$\n",
    "\n",
    "$$\\left[\\begin{array}{lll}2 & 3 & 3 \\\\ 2 & 4 & 5 \\\\ 1 & 1 & 2\\end{array}\\right]\\left[\\begin{array}{l}x_{1} \\\\ x_{2} \\\\ x_{3}\\end{array}\\right]=\\left[\\begin{array}{l}u_{1} \\\\ u_{2} \\\\ u_{3}\\end{array}\\right]$$\n",
    "\n",
    "$$A X=U$$\n",
    "\n",
    "$$A^{-1}A X=A^{-1}U$$\n",
    "\n",
    "$$ A^{-1}A = I = \\left[\\begin{array}{ccc}1 & 0 & 0 \\\\ 0 & 1 & 0 \\\\ 0 & 0 & 1\\end{array}\\right]$$\n",
    "\n",
    "\n",
    "$$IX=A^{-1}U$$\n",
    "\n",
    "$$IX=X$$\n",
    "\n",
    "$$X=A^{-1} U$$\n",
    "\n",
    "\n",
    "$$ \\text{General Multiplication} $$\n",
    "\n",
    "$$\n",
    "\\left[\\begin{array}{cccc}\n",
    "1 & 2 & 3 & 4 \\\\\n",
    "\\cdot & \\cdot & \\cdot & \\cdot \\\\\n",
    "\\cdot & \\cdot & \\cdot & \\cdot\n",
    "\\end{array}\\right]\\left[\\begin{array}{ll}\n",
    "\\cdot & 0 \\\\\n",
    "\\cdot & 3 \\\\\n",
    "\\cdot & 0 \\\\\n",
    "\\cdot & 2\n",
    "\\end{array}\\right]=\\left[\\begin{array}{cc}\n",
    "\\cdot & 14 \\\\\n",
    "\\cdot & \\cdot \\\\\n",
    "\\cdot & \\cdot\n",
    "\\end{array}\\right]\n",
    "$$"
   ]
  },
  {
   "cell_type": "markdown",
   "metadata": {},
   "source": [
    "***\n",
    "<p style=\"text-align:center; font-weight:bold; font-size:15px;\">Partial derivatives</p>\n",
    "\n",
    "$$f_{x}=\\frac{\\partial f}{\\partial x}=\\lim _{\\Delta x \\rightarrow 0} \\frac{f\\left(x_{0}+\\Delta x, y_{0}\\right)-f\\left(x_{0}, y_{0}\\right)}{\\Delta x} \\text{ ; same for} f_{y}$$ "
   ]
  },
  {
   "cell_type": "markdown",
   "metadata": {},
   "source": [
    "***\n",
    "<p style=\"text-align:center; font-weight:bold; font-size:15px;\">Linear approximation</p>\n",
    "\n",
    "$$\\Delta f \\approx f_{x} \\Delta x+f_{y} \\Delta y$$"
   ]
  },
  {
   "cell_type": "markdown",
   "metadata": {},
   "source": [
    "***\n",
    "<p style=\"text-align:center; font-weight:bold; font-size:15px;\">Min / max problems</p>\n",
    "\n",
    "$$ \\text{At a local max or min, } f_{x}=0 \\text{ and } f_{y}=0$$"
   ]
  },
  {
   "cell_type": "markdown",
   "metadata": {},
   "source": [
    "***\n",
    "<p style=\"text-align:center; font-weight:bold; font-size:15px;\">Least squares</p>\n",
    "\n",
    "$$D=\\sum_{i}\\left(y_{i}-\\left(a x_{i}+b\\right)\\right)^{2}$$\n",
    "$$\\frac{\\partial D}{\\partial a}=0 \\text{ and } \\frac{\\partial D}{\\partial b}=0$$ \n",
    "$$\n",
    "\\begin{aligned}\n",
    "\\left(\\sum x_{i}^{2}\\right) a+\\left(\\sum x_{i}\\right) b & =\\sum x_{i} y_{i} \\\\\n",
    "\\left(\\sum x_{i}\\right) a+n b & =\\sum y_{i}\n",
    "\\end{aligned}$$"
   ]
  },
  {
   "cell_type": "markdown",
   "metadata": {},
   "source": [
    "***\n",
    "<p style=\"text-align:center; font-weight:bold; font-size:15px;\">Quadratic approximation formula (Taylor series at order 2)</p>\n",
    "\n",
    "$$\\Delta f \\simeq f_{x}\\left(x-x_{0}\\right)+f_{y}\\left(y-y_{0}\\right)+\\frac{1}{2} f_{x x}\\left(x-x_{0}\\right)^{2}+f_{x y}\\left(x-x_{0}\\right)\\left(y-y_{0}\\right)+\\frac{1}{2} f_{y y}\\left(y-y_{0}\\right)^{2}$$"
   ]
  },
  {
   "cell_type": "markdown",
   "metadata": {},
   "source": [
    "***\n",
    "<p style=\"text-align:center; font-weight:bold; font-size:15px;\">Chain Rule</p>\n",
    "\n",
    "$$\\Delta f \\approx f_{x} \\Delta x+f_{y} \\Delta y+f_{z} \\Delta z$$\n",
    "$$x=x(t), \\text{ } y=y(t), \\text{ } z=z(t)$$\n",
    "$$\\frac{d f}{d t}=f_{x} \\frac{d x}{d t}+f_{y} \\frac{d y}{d t}+f_{z} \\frac{d z}{d t}$$"
   ]
  },
  {
   "cell_type": "markdown",
   "metadata": {},
   "source": [
    "***\n",
    "<p style=\"text-align:center; font-weight:bold; font-size:15px;\">Gradiant</p>\n",
    "\n",
    "$$\\frac{d w}{d t}=w_{x} \\frac{d x}{d t}+w_{y} \\frac{d y}{d t}+w_{z} \\frac{d z}{d t}$$\n",
    "$$\\frac{d w}{d t}=\\nabla w \\cdot \\frac{d \\vec{r}}{d t}$$\n",
    "$$\\nabla w=\\left\\langle w_{x}, w_{y}, w_{z}\\right\\rangle$$"
   ]
  },
  {
   "cell_type": "markdown",
   "metadata": {},
   "source": [
    "***\n",
    "<p style=\"text-align:center; font-weight:bold; font-size:15px;\">Lagrange multipliers</p>\n",
    "\n",
    "$$ f(x, y) = x^{2} + y^{2} $$\n",
    "$$ g(x, y) = xy = 3 $$\n",
    "$$ \\nabla f=\\lambda \\nabla g $$\n",
    "$$\n",
    "\\left\\{\\begin{array} { l } \n",
    "{ f _ { x } = \\lambda g _ { x } } \\\\\n",
    "{ f _ { y } = \\lambda g _ { y } } \\\\\n",
    "{ g = c }\n",
    "\\end{array} \\quad \\text { i.e. here } \\left\\{\\begin{array}{l}\n",
    "2 x=\\lambda y \\\\\n",
    "2 y=\\lambda x \\\\\n",
    "x y=3\n",
    "\\end{array}\\right.\\right.\n",
    "$$"
   ]
  },
  {
   "cell_type": "markdown",
   "metadata": {},
   "source": [
    "***\n",
    "<p style=\"text-align:center; font-weight:bold; font-size:15px;\">Double Integrals</p>\n",
    "\n",
    "$$\\iint_{R} f(x, y) d A = \\int_{x_{\\min }}^{x_{\\max }}\\int_{y_{\\min }}^{y_{\\max }} f(x, y) dy dx = \\text{volume below graph} $$\n"
   ]
  }
 ],
 "metadata": {
  "language_info": {
   "name": "python"
  },
  "orig_nbformat": 4
 },
 "nbformat": 4,
 "nbformat_minor": 2
}
