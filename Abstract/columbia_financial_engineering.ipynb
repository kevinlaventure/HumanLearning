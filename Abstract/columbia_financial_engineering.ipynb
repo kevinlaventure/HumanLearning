{
 "cells": [
  {
   "cell_type": "markdown",
   "metadata": {},
   "source": [
    "<p style=\"text-align:center; font-weight:bold; font-size:22px;\">Discrete random variables</p>"
   ]
  },
  {
   "cell_type": "markdown",
   "metadata": {},
   "source": [
    "<p style=\"text-align:center; font-weight:bold; font-size:15px;\">Cumulative distribution function (CDF) </p>\n",
    "\n",
    "$$ \\mathrm{F}(x):=\\mathrm{P}(X \\leq x) $$"
   ]
  },
  {
   "cell_type": "markdown",
   "metadata": {},
   "source": [
    "***\n",
    "<p style=\"text-align:center; font-weight:bold; font-size:15px;\">Probability mass function (PMF)</p>\n",
    "\n",
    "$$ p(\\cdot) \\text{ if } p(x) \\geq 0 \\text{ and for all events A we have } $$\n",
    "$$  \\mathrm{P}(X \\in A)=\\sum_{x \\in A} p(x) $$"
   ]
  },
  {
   "cell_type": "markdown",
   "metadata": {},
   "source": [
    "***\n",
    "<p style=\"text-align:center; font-weight:bold; font-size:15px;\">Expected value</p>\n",
    "\n",
    "$$\n",
    "\\mathrm{E}[X]:=\\sum_{i} x_{i} p\\left(x_{i}\\right)\n",
    "$$"
   ]
  },
  {
   "cell_type": "markdown",
   "metadata": {},
   "source": [
    "***\n",
    "<p style=\"text-align:center; font-weight:bold; font-size:15px;\">Variance</p>\n",
    "\n",
    "$$\n",
    "\\begin{aligned}\n",
    "\\operatorname{Var}(X) & :=\\mathrm{E}\\left[(X-\\mathrm{E}[X])^{2}\\right] \\\\\n",
    "& =\\mathrm{E}\\left[X^{2}\\right]-\\mathrm{E}[X]^{2}\n",
    "\\end{aligned}\n",
    "$$"
   ]
  },
  {
   "cell_type": "markdown",
   "metadata": {},
   "source": [
    "***\n",
    "<p style=\"text-align:center; font-weight:bold; font-size:22px;\">Binomial Distribution</p>\n",
    "\n",
    "$$ \\text{We say X has a binomial distribution, or } X \\sim \\operatorname{Bin}(n, p)$$\n",
    "\n",
    "\n",
    "$$\n",
    "\\mathrm{P}(X=r)=\\left(\\begin{array}{c}\n",
    "n \\\\\n",
    "r\n",
    "\\end{array}\\right) p^r(1-p)^{n-r}\n",
    "$$\n",
    "\n",
    "$$\n",
    "\\begin{aligned}\n",
    "\\mathrm{E}[X] & =n p \\\\\n",
    "\\operatorname{Var}(X) & =n p(1-p)\n",
    "\\end{aligned}\n",
    "$$\n"
   ]
  },
  {
   "cell_type": "markdown",
   "metadata": {},
   "source": [
    "***\n",
    "<p style=\"text-align:center; font-weight:bold; font-size:22px;\">Poisson Distribution</p>\n",
    "\n",
    "$$ \\text{We say X has a Poisson } (\\lambda)  \\text{ distribution if}$$\n",
    "\n",
    "$$\n",
    "\\begin{gathered}\n",
    "\\mathrm{P}(X=r)=\\frac{\\lambda^r e^{-\\lambda}}{r !} \\\\\n",
    "\\mathrm{E}[X]=\\lambda \\text { and } \\operatorname{Var}(X)=\\lambda\n",
    "\\end{gathered}\n",
    "$$"
   ]
  },
  {
   "cell_type": "markdown",
   "metadata": {},
   "source": [
    "***\n",
    "<p style=\"text-align:center; font-weight:bold; font-size:22px;\">Bayes' Theorem</p>\n",
    "\n",
    "$$ \\text{Let A and B be two events for which } \\mathrm{P}(B) \\neq 0$$\n",
    "\n",
    "$$\n",
    "\\begin{aligned}\n",
    "\\mathrm{P}(A \\mid B) & =\\frac{\\mathrm{P}(A \\cap B)}{\\mathrm{P}(B)} =\\frac{\\mathrm{P}(B \\mid A) \\mathrm{P}(A)}{P(B)} \\\\\n",
    "& =\\frac{\\mathrm{P}(B \\mid A) \\mathrm{P}(A)}{\\sum_j \\mathrm{P}\\left(B \\mid A_j\\right) \\mathrm{P}\\left(A_j\\right)}\n",
    "\\end{aligned}\n",
    "$$\n"
   ]
  },
  {
   "cell_type": "markdown",
   "metadata": {},
   "source": [
    "***\n",
    "<p style=\"text-align:center; font-weight:bold; font-size:22px;\">Continuous random variables</p>"
   ]
  },
  {
   "cell_type": "markdown",
   "metadata": {},
   "source": [
    "<p style=\"text-align:center; font-weight:bold; font-size:15px;\">Cumulative distribution function (CDF) </p>\n",
    "\n",
    "$$\n",
    "\\mathrm{P}(X \\in A)=\\int_A f(y) d y .\n",
    "$$\n",
    "\n",
    "$$ \\text{The CDF and PDF are related by} $$\n",
    "\n",
    "$$\n",
    "\\mathrm{F}(x)=\\int_{-\\infty}^x f(y) d y\n",
    "$$"
   ]
  },
  {
   "cell_type": "markdown",
   "metadata": {},
   "source": [
    "***\n",
    "<p style=\"text-align:center; font-weight:bold; font-size:15px;\">Normal distribution</p>\n",
    "\n",
    "$$ \\text{We say X has a normal distribution or X } \\sim \\mathrm{N}\\left(\\mu, \\sigma^2\\right)  \\text{ if } $$\n",
    "\n",
    "$$\n",
    "f(x)=\\frac{1}{\\sqrt{2 \\pi \\sigma^2}} \\exp \\left(-\\frac{(x-\\mu)^2}{2 \\sigma^2}\\right)\n",
    "$$\n",
    "\n",
    "$$\n",
    "\\begin{aligned}\n",
    "\\mathrm{E}[X] & =\\mu \\\\\n",
    "\\operatorname{Var}(X) & =\\sigma^2\n",
    "\\end{aligned}\n",
    "$$\n"
   ]
  },
  {
   "cell_type": "markdown",
   "metadata": {},
   "source": [
    "***\n",
    "<p style=\"text-align:center; font-weight:bold; font-size:15px;\">Log-Normal Distribution</p>\n",
    "\n",
    "$$ \\text{We say X has a log-normal distribution or X } \\sim \\operatorname{LN}\\left(\\mu, \\sigma^2\\right)  \\text{ if } $$\n",
    "\n",
    "$$\n",
    "\\log (X) \\sim \\mathrm{N}\\left(\\mu, \\sigma^2\\right)\n",
    "$$\n",
    "\n",
    "$$\n",
    "\\begin{aligned}\n",
    "\\mathrm{E}[X] & =\\exp \\left(\\mu+\\sigma^2 / 2\\right) \\\\\n",
    "\\operatorname{Var}(X) & =\\exp \\left(2 \\mu+\\sigma^2\\right)\\left(\\exp \\left(\\sigma^2\\right)-1\\right)\n",
    "\\end{aligned}\n",
    "$$\n"
   ]
  },
  {
   "cell_type": "markdown",
   "metadata": {},
   "source": [
    "***\n",
    "<p style=\"text-align:center; font-weight:bold; font-size:15px;\">Conditional Expectations and Variances</p>\n",
    "\n",
    "$$ \\text{Let X and Y be two random variables}$$\n",
    "\n",
    "$$\n",
    "\\mathrm{E}[X]=\\mathrm{E}[\\mathrm{E}[X \\mid Y]]\n",
    "$$\n",
    "\n",
    "$$\n",
    "\\operatorname{Var}(X)=\\operatorname{Var}(\\mathrm{E}[X \\mid Y])+\\mathrm{E}[\\operatorname{Var}(X \\mid Y)]\n",
    "$$"
   ]
  },
  {
   "cell_type": "markdown",
   "metadata": {},
   "source": [
    "***\n",
    "<p style=\"text-align:center; font-weight:bold; font-size:15px;\">Multivariate Distributions</p>\n"
   ]
  },
  {
   "cell_type": "markdown",
   "metadata": {},
   "source": [
    "***\n",
    "<p style=\"text-align:center; font-weight:bold; font-size:15px;\">Brownian Motion</p>\n",
    "\n",
    "Definition. We say that a random process, $\\left\\{X_t: t \\geq 0\\right\\}$, is a Brownian motion with parameters $(\\mu, \\sigma)$ if\n",
    "- For $0<t_1<t_2<\\ldots<t_{n-1}<t_n$\n",
    "$\\left(X_{t_2}-X_{t_1}\\right),\\left(X_{t_3}-X_{t_2}\\right), \\ldots,\\left(X_{t_n}-X_{t_{n-1}}\\right)$ are mutually independent.\n",
    "- For $s>0, X_{t+s}-X_t \\sim \\mathrm{N}\\left(\\mu s, \\sigma^2 s\\right)$\n",
    "- $X_t$ is a continuous function of $t$.\n",
    "\n",
    "We say that $X_t$ is a $B(\\mu, \\sigma)$ Brownian motion with drift $\\mu$ and volatility $\\sigma$"
   ]
  },
  {
   "cell_type": "markdown",
   "metadata": {},
   "source": [
    "***\n",
    "<p style=\"text-align:center; font-weight:bold; font-size:15px;\">Standard Brownian Motion</p>\n",
    "\n",
    "- When $\\mu=0$ and $\\sigma=1$ we have a standard Brownian motion (SBM).\n",
    "- We will use $W_t$ to denote a SBM and we always assume that $W_0=0$.\n",
    "- Note that if $X_t \\sim B(\\mu, \\sigma)$ and $X_0=x$ then we can write the below where $W_t$ is an SBM. \n",
    "- Therefore see that $X_t \\sim \\mathrm{N}\\left(x+\\mu t, \\sigma^2 t\\right)$\n",
    "\n",
    "$$\n",
    "X_t=x+\\mu t+\\sigma W_t\n",
    "$$\n"
   ]
  },
  {
   "cell_type": "markdown",
   "metadata": {},
   "source": [
    "***\n",
    "<p style=\"text-align:center; font-weight:bold; font-size:15px;\">Information Filtrations</p>\n",
    "\n",
    "- For any random process we will use $\\mathcal{F}_t$ to denote the information available at time $t$\n",
    "    - the set $\\left\\{\\mathcal{F}_t\\right\\}_{t \\geq 0}$ is then the information filtration\n",
    "    - so $\\mathrm{E}\\left[\\cdot \\mid \\mathcal{F}_t\\right]$ denotes an expectation conditional on time $t$ information available.\n",
    "- Will usualy write $\\mathrm{E}\\left[\\cdot \\mid \\mathcal{F}_t\\right]$ as $\\mathrm{E}_t[\\cdot]$.\n",
    "\n",
    "Important Fact: The independent increments property of Brownian motion implies that any function of $W_{t+s}-W_t$ is independent of $\\mathcal{F}_t$ and that\n",
    "$$\n",
    "\\left(W_{t+s}-W_t\\right) \\sim \\mathrm{N}(0, s) .\n",
    "$$\n"
   ]
  },
  {
   "cell_type": "markdown",
   "metadata": {},
   "source": [
    "***\n",
    "<p style=\"text-align:center; font-weight:bold; font-size:15px;\">Geometric Brownian Motion</p>\n",
    "\n",
    "Definition. We say that a random process, $X_t$, is a geometric Brownian motion (GBM) if for all $t \\geq 0$\n",
    "$$\n",
    "X_t=e^{\\left(\\mu-\\frac{\\sigma^2}{2}\\right) t+\\sigma W_t}\n",
    "$$\n",
    "where $W_t$ is a standard Brownian motion.\n",
    "We call $\\mu$ the drift, $\\sigma$ the volatility and write $X_t \\sim \\operatorname{GBM}(\\mu, \\sigma)$.\n",
    "Note that\n",
    "$$\n",
    "\\begin{aligned}\n",
    "X_{t+s} & =X_0 e^{\\left(\\mu-\\frac{\\sigma^2}{2}\\right)(t+s)+\\sigma W_{t+s}} \\\\\n",
    "& =X_0 e^{\\left(\\mu-\\frac{\\sigma^2}{2}\\right) t+\\sigma W_t+\\left(\\mu-\\frac{\\sigma^2}{2}\\right) s+\\sigma\\left(W_{t+s}-W_t\\right)} \\\\\n",
    "& =X_t e^{\\left(\\mu-\\frac{\\sigma^2}{2}\\right) s+\\sigma\\left(W_{t+s}-W_t\\right)}\n",
    "\\end{aligned}\n",
    "$$"
   ]
  }
 ],
 "metadata": {
  "kernelspec": {
   "display_name": "base",
   "language": "python",
   "name": "python3"
  },
  "language_info": {
   "codemirror_mode": {
    "name": "ipython",
    "version": 3
   },
   "file_extension": ".py",
   "mimetype": "text/x-python",
   "name": "python",
   "nbconvert_exporter": "python",
   "pygments_lexer": "ipython3",
   "version": "3.10.9"
  }
 },
 "nbformat": 4,
 "nbformat_minor": 2
}
