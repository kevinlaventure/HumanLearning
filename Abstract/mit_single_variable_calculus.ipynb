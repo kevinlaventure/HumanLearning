{
 "cells": [
  {
   "cell_type": "markdown",
   "metadata": {},
   "source": [
    "<p style=\"text-align:center; font-weight:bold; font-size:22px;\">Derivatives</p>"
   ]
  },
  {
   "cell_type": "markdown",
   "metadata": {},
   "source": [
    "<p style=\"text-align:center; font-weight:bold; font-size:15px;\">Geometric definition of the derivative</p>\n",
    "\n",
    "$$\n",
    "\\lim _{\\Delta x \\rightarrow 0} \\frac{\\Delta f}{\\Delta x}=\\lim _{\\Delta x \\rightarrow 0} \\underbrace{\\frac{f\\left(x_{0}+\\Delta x\\right)-f\\left(x_{0}\\right)}{\\Delta x}}_{\\text {\"difference quotient\" }}=\\underbrace{f^{\\prime}\\left(x_{0}\\right)}_{\\text {\"derivative of } f} \\text { at } x_{0} \\text { \" }\n",
    "$$"
   ]
  },
  {
   "cell_type": "markdown",
   "metadata": {},
   "source": [
    "***\n",
    "<p style=\"text-align:center; font-weight:bold; font-size:15px;\">General Derivative Formula</p>\n",
    "\n",
    "$$ (u+v)^{\\prime}(x) =u^{\\prime}(x)+v^{\\prime}(x) $$\n",
    "$$ (c u)^{\\prime}=c u^{\\prime} $$\n",
    "$$(u v)^{\\prime}=u^{\\prime} v+u v^{\\prime}$$\n",
    "$$\\left(\\frac{u}{v}\\right)^{\\prime}=\\frac{u^{\\prime} v-u v^{\\prime}}{v^{2}}$$"
   ]
  },
  {
   "cell_type": "markdown",
   "metadata": {},
   "source": [
    "***\n",
    "<p style=\"text-align:center; font-weight:bold; font-size:15px;\">Specific Derivative Formula</p>\n",
    "\n",
    "$$\\frac{d}{d x} x^{n}=n x^{n-1}$$\n",
    "$$\\frac{d}{d x} \\sin x=\\cos x$$\n",
    "$$\\frac{d}{d x} \\cos x=-\\sin x$$\n",
    "$$\\frac{d}{d x}\\left(a^{x}\\right)=\\ln (a) \\cdot a^{x}$$\n",
    "$$\\frac{d}{d x}(\\ln (x))=\\frac{1}{x}$$\n",
    "$$\\frac{d}{d x}\\left(\\frac{1}{x}\\right) = \\frac{-1}{x^{2}}$$\n",
    "$$\\frac{d}{d x}\\left(e^{x}\\right)=e^{x}$$"
   ]
  },
  {
   "cell_type": "markdown",
   "metadata": {},
   "source": [
    "***\n",
    "<p style=\"text-align:center; font-weight:bold; font-size:15px;\">Continuity</p>\n",
    "\n",
    "$$ \\text{We say $f(x)$ is continuous at $x_{0}$ when } \\lim _{x \\rightarrow x_{0}} f(x)=f\\left(x_{0}\\right) $$ "
   ]
  },
  {
   "cell_type": "markdown",
   "metadata": {},
   "source": [
    "***\n",
    "<p style=\"text-align:center; font-weight:bold; font-size:15px;\">Removable discontinuity</p>\n",
    "\n",
    "$$ \\text{Right-hand limit: } \\lim _{x \\rightarrow x_{0}^{+}} f(x) \\text{ means } \\lim _{x \\rightarrow x_{0}} f(x) \\text{ for } x>x_{0} $$\n",
    "$$ \\text{Left-hand limit: } \\lim _{x \\rightarrow x_{0}^{-}} f(x) \\text{ means } \\lim _{x \\rightarrow x_{0}} f(x) \\text{ for } x<x_{0} $$"
   ]
  },
  {
   "cell_type": "markdown",
   "metadata": {},
   "source": [
    "***\n",
    "<p style=\"text-align:center; font-weight:bold; font-size:15px;\">Chain Rule</p>\n",
    "\n",
    "$$\\frac{\\Delta y}{\\Delta t}=\\frac{\\Delta y}{\\Delta x} \\cdot \\frac{\\Delta x}{\\Delta t}$$\n"
   ]
  },
  {
   "cell_type": "markdown",
   "metadata": {},
   "source": [
    "***\n",
    "<p style=\"text-align:center; font-weight:bold; font-size:15px;\">Higher Derivatives</p>\n",
    "\n",
    "\n",
    "$$f^{\\prime}(x) = Df = \\frac{d f}{d x}$$\n",
    "$$f^{\\prime\\prime}(x) = D^{2}f = \\frac{d^{2} f}{d x^{2}}$$\n",
    "$$f^{(n)}(x) = D^{n}f = \\frac{d^{n} f}{d x^{n}}$$\n"
   ]
  },
  {
   "cell_type": "markdown",
   "metadata": {},
   "source": [
    "***\n",
    "<p style=\"text-align:center; font-weight:bold; font-size:15px;\">Implicit Differentiation</p>\n",
    "\n",
    "$$x^{2}+y^{2} = 1$$\n",
    "$$\\frac{d}{d x}\\left(x^{2}+y^{2}\\right) =\\frac{d}{d x}(1) = 0$$\n",
    "$$\\frac{d}{d x}\\left(x^{2}\\right)+\\frac{d}{d x}\\left(y^{2}\\right) = 0$$\n",
    "$$2 x+2 y \\frac{d y}{d x} = 0$$\n",
    "$$2 y \\frac{d y}{d x} =-2 x$$\n",
    "$$\\frac{d y}{d x} =\\frac{-x}{y}$$"
   ]
  },
  {
   "cell_type": "markdown",
   "metadata": {},
   "source": [
    "***\n",
    "<p style=\"text-align:center; font-weight:bold; font-size:15px;\">Inverse Function</p>\n",
    "\n",
    "$$\n",
    "\\begin{aligned}\n",
    "y & =f(x) \\\\\n",
    "f^{-1}(y) & =x \\\\\n",
    "\\frac{d}{d x}\\left(f^{-1}(y)\\right) & =\\frac{d}{d x}(x)=1\n",
    "\\end{aligned}\n",
    "$$\n",
    "\n"
   ]
  },
  {
   "cell_type": "markdown",
   "metadata": {},
   "source": [
    "***\n",
    "<p style=\"text-align:center; font-weight:bold; font-size:22px;\">Applications of Differentiation</p>"
   ]
  },
  {
   "cell_type": "markdown",
   "metadata": {},
   "source": [
    "<p style=\"text-align:center; font-weight:bold; font-size:15px;\">Linear Approximation</p>\n",
    "\n",
    "$$\n",
    "f(x) \\approx f\\left(x_{0}\\right)+f^{\\prime}\\left(x_{0}\\right)\\left(x-x_{0}\\right)\n",
    "$$"
   ]
  },
  {
   "cell_type": "markdown",
   "metadata": {},
   "source": [
    "***\n",
    "<p style=\"text-align:center; font-weight:bold; font-size:15px;\">Basic list of linear approximations</p>\n",
    "\n",
    "$$\\sin x \\approx x $$\n",
    "$$\\cos x \\approx 1 $$\n",
    "$$ e^{x} \\approx 1+x $$\n",
    "$$\\ln (1+x) \\approx x $$\n",
    "$$(1+x)^{r} \\approx 1+r x $$\n"
   ]
  },
  {
   "cell_type": "markdown",
   "metadata": {},
   "source": [
    "***\n",
    "<p style=\"text-align:center; font-weight:bold; font-size:15px;\">Quadratic Approximations</p>\n",
    "\n",
    "$$\n",
    "f(x) \\approx f\\left(x_{0}\\right)+f^{\\prime}\\left(x_{0}\\right)\\left(x-x_{0}\\right)+\\frac{f^{\\prime \\prime}\\left(x_{0}\\right)}{2}\\left(x-x_{0}\\right)^{2} \\quad\\left(x \\approx x_{0}\\right)\n",
    "$$\n"
   ]
  },
  {
   "cell_type": "markdown",
   "metadata": {},
   "source": [
    "***\n",
    "<p style=\"text-align:center; font-weight:bold; font-size:15px;\">Newton's Method</p>\n",
    "\n",
    "$$\n",
    "x_{k+1}=x_{k}-\\frac{f\\left(x_{k}\\right)}{f^{\\prime}\\left(x_{k}\\right)}\n",
    "$$\n"
   ]
  },
  {
   "cell_type": "markdown",
   "metadata": {},
   "source": [
    "***\n",
    "<p style=\"text-align:center; font-weight:bold; font-size:15px;\">Mean-Value Theorem</p>\n",
    "\n",
    "$$\n",
    "f(x)=f(a)+f^{\\prime}(c)(x-a) \\quad \\text { for some } c, a<c<x\n",
    "$$\n"
   ]
  },
  {
   "cell_type": "markdown",
   "metadata": {},
   "source": [
    "***\n",
    "<p style=\"text-align:center; font-weight:bold; font-size:22px;\">Differentials and Antiderivatives</p>"
   ]
  },
  {
   "cell_type": "markdown",
   "metadata": {},
   "source": [
    "$$F^{\\prime}(x)=f(x) \\quad \\text { or, } \\quad d F=f(x) d x$$\n",
    "\n",
    "$$ F(x)=\\int f(x) dx \\text{ means that } F \\text{ is the antiderivative of } f$$\n",
    "\n",
    "<p style=\"text-align:center; font-weight:bold; font-size:15px;\">Examples:</p>\n",
    "\n",
    "$$\\int x^{n} d x=\\frac{x^{n+1}}{n+1}+c$$\n",
    "\n",
    "$$\\int \\frac{d x}{x}=\\ln |x|+c \\quad$$\n",
    "\n",
    "<p style=\"text-align:center; font-weight:bold; font-size:15px;\">Method of substitution:</p>\n",
    "\n",
    "$$\\int x^{3}\\left(x^{4}+2\\right)^{5} d x$$\n",
    "\n",
    "$$u=x^{4}+2, \\quad d u=4 x^{3} d x, \\quad\\left(x^{4}+2\\right)^{5}=u^{5}, \\quad x^{3} d x=\\frac{1}{4} d u$$\n",
    "\n",
    "$$\\int x^{3}\\left(x^{4}+2\\right)^{5} d x=\\frac{1}{4} \\int u^{5} d u=\\frac{u^{6}}{4(6)}=\\frac{u^{6}}{24}+c=\\frac{1}{24}\\left(x^{4}+2\\right)^{6}+c$$\n",
    "\n",
    "</div>\n"
   ]
  },
  {
   "cell_type": "markdown",
   "metadata": {},
   "source": [
    "***\n",
    "<p style=\"text-align:center; font-weight:bold; font-size:15px;\">Ordinary Differential Equations (ODEs)</p>\n",
    "\n",
    "$$\\frac{d y}{d x}=f(x)$$\n",
    "\n",
    "$$ \\text{solution : } y = \\int f(x) d x$$"
   ]
  },
  {
   "cell_type": "markdown",
   "metadata": {},
   "source": [
    "***\n",
    "<p style=\"text-align:center; font-weight:bold; font-size:22px;\">Integration</p>"
   ]
  },
  {
   "cell_type": "markdown",
   "metadata": {},
   "source": [
    "<p style=\"text-align:center; font-weight:bold; font-size:15px;\">Definite Integrals</p>\n",
    "\n",
    "\n",
    "$$\\Delta x=\\frac{b-a}{n}$$\n",
    "\n",
    "$$ \\text{Any } c_{i} \\text{ in the interval we have summation notation:}$$\n",
    "\n",
    "$$\\sum_{i=1}^{n} f\\left(c_{i}\\right) \\Delta x \\leftarrow \\text{ called a Riemann sum}$$ \n",
    "\n",
    "$$\n",
    "\\lim _{n \\rightarrow \\infty} \\sum_{i=1}^{n} f\\left(c_{i}\\right) \\Delta x=\\int_{a}^{b} f(x) d x \\leftarrow \\text { called a definite integral}\n",
    "$$\n",
    "\n",
    "\n"
   ]
  },
  {
   "cell_type": "markdown",
   "metadata": {},
   "source": [
    "***\n",
    "<p style=\"text-align:center; font-weight:bold; font-size:15px;\">Fundamental Theorem of Calculus</p>\n",
    "\n",
    "$$\\int_{a}^{b} f(x) d x=F(b)-F(a)$$\n",
    "\n",
    "$$\n",
    "\\text {If } F(x)=\\int_{a}^{x} f(t) d t \\text { and } f \\text { is continuous, then } F^{\\prime}(x)=f(x)\n",
    "$$\n",
    "\n"
   ]
  },
  {
   "cell_type": "markdown",
   "metadata": {},
   "source": [
    "***\n",
    "<p style=\"text-align:center; font-weight:bold; font-size:15px;\">Integral Basic Properties</p>\n",
    "\n",
    "$$\\int_{a}^{b} f(x) d x+\\int_{b}^{c} f(x) d x=\\int_{a}^{c} f(x) d x$$\n",
    "$$\\int_{b}^{a} f(x) d x=-\\int_{a}^{b} f(x) d x$$\n",
    "$$ \\text{If } f(x) \\leq g(x) \\text{, then } \\int_{a}^{b} f(x) d x \\leq \\int_{a}^{b} g(x) d x \\text{ only if a<b}$$ \n"
   ]
  },
  {
   "cell_type": "markdown",
   "metadata": {},
   "source": [
    "***\n",
    "<p style=\"text-align:center; font-weight:bold; font-size:15px;\">Applications to Logarithms</p>\n",
    "\n",
    "$$\\int x^{n} d x=\\frac{x^{n+1}}{n+1}+c$$\n",
    "$$L(x)=\\int_{1}^{x} \\frac{d t}{t}$$\n",
    "$$L^{\\prime}(x)=\\frac{1}{x}$$\n",
    "$$L^{\\prime \\prime}(x)=-1 / x^{2}$$\n",
    "$$L(a b)=L(a)+L(b)$$\n"
   ]
  },
  {
   "cell_type": "markdown",
   "metadata": {},
   "source": [
    "***\n",
    "<p style=\"text-align:center; font-weight:bold; font-size:15px;\">Application of Integration to Average Value</p>\n",
    "\n",
    "<br>\n",
    "\n",
    "<p style=\"text-align:center; font-size:15px;\">The limit of the Riemann Sums is:</p>\n",
    "\n",
    "$$\n",
    "\\lim _{n \\rightarrow \\infty}\\left(y_{1}+\\cdots+y_{n}\\right) \\frac{b-a}{n}=\\int_{a}^{b} f(x) d x\n",
    "$$\n",
    "\n",
    "<br>\n",
    "\n",
    "<p style=\"text-align:center; font-size:15px;\">For continuous average we have:</p>\n",
    "\n",
    "$$\n",
    "\\lim _{n \\rightarrow \\infty} \\frac{y_{1}+\\cdots+y_{n}}{n}=\\frac{1}{b-a} \\int_{a}^{b} f(x) d x\n",
    "$$\n",
    "</div>\n"
   ]
  },
  {
   "cell_type": "markdown",
   "metadata": {},
   "source": [
    "***\n",
    "<p style=\"text-align:center; font-weight:bold; font-size:15px;\">Numerical Integration</p>\n",
    "\n",
    "<br>\n",
    "\n",
    "<p style=\"text-align:center; font-size:15px;\">Riemann Sums with left endpoints:</p>\n",
    "\n",
    "$$\n",
    "\\left(y_{0}+y_{1}+\\ldots+y_{n-1}\\right) \\Delta x\n",
    "$$\n",
    "\n",
    "<br>\n",
    "\n",
    "\n",
    "<p style=\"text-align:center; font-size:15px;\">Trapezoidal Rule: average of Left and Right Riemann Sums</p>\n",
    "\n",
    "$$\n",
    "\\text { Area }=\\text { height }\\left(\\frac{\\text { base } 1+\\text { base } 2}{2}\\right)=\\left(\\frac{y_{0}+y_{1}}{2}\\right) \\Delta x \\quad $$\n",
    "<br>\n",
    "\n",
    "<p style=\"text-align:center; font-size:15px;\">Simpson's Rule</p>\n",
    "\n",
    "$$\n",
    "\\text { Area under parabola }=(\\text { base })(\\text { weighted average height })=(2 \\Delta x)\\left(\\frac{y_{0}+4 y_{1}+y_{2}}{6}\\right)\n",
    "$$\n",
    "\n",
    "\n"
   ]
  },
  {
   "cell_type": "markdown",
   "metadata": {},
   "source": [
    "***\n",
    "<p style=\"text-align:center; font-weight:bold; font-size:22px;\">Technique of Integration</p>"
   ]
  },
  {
   "cell_type": "markdown",
   "metadata": {},
   "source": [
    "<p style=\"text-align:center; font-weight:bold; font-size:15px;\">Integration by Parts</p>\n",
    "\n",
    "$$(u v)^{\\prime}=u^{\\prime} v+u v^{\\prime}$$\n",
    "\n",
    "$$u v^{\\prime}=(u v)^{\\prime}-u^{\\prime} v$$\n",
    "\n",
    "$$\\int_{a}^{b} u v^{\\prime} d x=\\int_{a}^{b}(u v)^{\\prime} d x-\\int_{a}^{b} u^{\\prime} v d x$$\n",
    "\n",
    "$$\\int_{a}^{b} u v^{\\prime} d x=\\left.u v\\right|_{a} ^{b}-\\int_{a}^{b} u^{\\prime} v d x$$\n",
    "\n",
    "\n",
    "$$\n",
    "\n",
    "u = \\ln x \\quad du = \\frac{1}{x} dx \\quad d v=d x ; v=x \\\\\n",
    "\\int(\\ln x) d x=x \\ln x-\\int x\\left(\\frac{1}{x}\\right) d x=x \\ln x-\\int d x=x \\ln x-x+c\n",
    "\n",
    "$$\n",
    "\n"
   ]
  },
  {
   "cell_type": "markdown",
   "metadata": {},
   "source": [
    "***\n",
    "<p style=\"text-align:center; font-weight:bold; font-size:15px;\">Parametric Equation</p>\n",
    "\n",
    "<br>\n",
    "\n",
    "$$\n",
    "\\begin{gathered}\n",
    "x=t^{2} \\quad y=t^{3} \\quad \\text { for } 0 \\leq t \\leq 1 \\\\\n",
    "x^{3}=\\left(t^{2}\\right)^{3}=t^{6} ; \\quad y^{2}=\\left(t^{3}\\right)^{2}=t^{6} \\quad \\Longrightarrow x^{3}=y^{2} \\Longrightarrow y=x^{2 / 3} \\quad 0 \\leq x \\leq 1\n",
    "\\end{gathered}\n",
    "$$"
   ]
  },
  {
   "cell_type": "markdown",
   "metadata": {},
   "source": [
    "***\n",
    "<p style=\"text-align:center; font-weight:bold; font-size:15px;\">L'Hôpital's rule</p>\n",
    "\n",
    "<br>\n",
    "\n",
    "$$\n",
    "\\lim _{x \\rightarrow a} \\frac{f(x)}{g(x)}=\\frac{f^{\\prime}(a)}{g^{\\prime}(a)}\n",
    "$$"
   ]
  },
  {
   "cell_type": "markdown",
   "metadata": {},
   "source": [
    "***\n",
    "<p style=\"text-align:center; font-weight:bold; font-size:15px;\">Improper Integrals First Type</p>\n",
    "\n",
    "<br>\n",
    "\n",
    "$$\n",
    "\\int_{a}^{\\infty} f(x) d x=\\lim _{M \\rightarrow \\infty} \\int_{a}^{M} f(x) d x\n",
    "$$\n",
    "\n",
    "$$\n",
    "\\int_{0}^{\\infty} e^{-k x} d x=\\left.(-1 / k) e^{-k x}\\right|_{0} ^{\\infty}=(1 / k)\\left(1-e^{-k \\infty}\\right)=1 / k \\quad(\\text { since } k>0)\n",
    "$$"
   ]
  },
  {
   "cell_type": "markdown",
   "metadata": {},
   "source": [
    "***\n",
    "\n",
    "<p style=\"text-align:center; font-weight:bold; font-size:15px;\">Improper Integrals Second Type</p>\n",
    "\n",
    "<br>\n",
    "\n",
    "$$\n",
    "\\begin{gathered}\n",
    "\\int_{0}^{1} \\frac{d x}{\\sqrt{x}}=\\lim _{a \\rightarrow 0^{+}} \\int_{a}^{1} x^{-1 / 2} d x \\\\\n",
    "\\int_{a}^{1} x^{-1 / 2} d x=\\left.2 x^{1 / 2}\\right|_{a} ^{1}=2-2 a^{1 / 2}\n",
    "\\end{gathered}\n",
    "$$\n",
    "$$\n",
    "\\int_{0}^{1} x^{-1 / 2} d x=2\n",
    "$$"
   ]
  },
  {
   "cell_type": "markdown",
   "metadata": {},
   "source": [
    "***\n",
    "\n",
    "<p style=\"text-align:center; font-weight:bold; font-size:15px;\">Infinite Series<p>\n",
    "\n",
    "<br>\n",
    "\n",
    "$$\n",
    "1+a+a^{2}+a^{3}+\\ldots=S\n",
    "$$\n",
    "$$\n",
    "a+a^{2}+a^{3}+\\ldots=a S\n",
    "$$\n",
    "$$\n",
    "\\left(1+a+a^{2}+a^{3}+\\cdots\\right)-\\left(a+a^{2}+a^{3}+\\cdots\\right)=S-a S\n",
    "$$\n",
    "$$\n",
    "1=S-a S \\Longrightarrow 1=(1-a) S \\quad \\Longrightarrow \\quad S=\\frac{1}{1-a}\n",
    "$$\n",
    "$$\n",
    "1+a+a^{2}+\\cdots=\\frac{1}{1-a} \\text { for }|a|<1\n",
    "$$"
   ]
  },
  {
   "cell_type": "markdown",
   "metadata": {},
   "source": [
    "***\n",
    "\n",
    "<p style=\"text-align:center; font-weight:bold; font-size:15px;\">Taylor Series<p>\n",
    "\n",
    "<br>\n",
    "\n",
    "$$f(x) \\approx f(a) + \\dfrac{f^{\\prime}(a)}{1!}(x-a) + \\dfrac{f^{\\prime\\prime}(a)}{2!}(x-a)^2 + \\dfrac{f^{\\prime\\prime\\prime}(a)}{3!}(x-a)^3 + ... $$"
   ]
  }
 ],
 "metadata": {
  "language_info": {
   "name": "python"
  },
  "orig_nbformat": 4
 },
 "nbformat": 4,
 "nbformat_minor": 2
}
